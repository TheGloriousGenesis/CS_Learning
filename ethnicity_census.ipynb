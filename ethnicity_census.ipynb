{
 "cells": [
  {
   "cell_type": "code",
   "id": "initial_id",
   "metadata": {
    "collapsed": true,
    "ExecuteTime": {
     "end_time": "2024-07-17T20:01:56.767020Z",
     "start_time": "2024-07-17T20:01:39.442868Z"
    }
   },
   "source": [
    "import pandas as pd \n",
    "import numpy as np"
   ],
   "outputs": [],
   "execution_count": 1
  },
  {
   "metadata": {
    "ExecuteTime": {
     "end_time": "2024-07-17T20:02:15.266602Z",
     "start_time": "2024-07-17T20:02:15.110251Z"
    }
   },
   "cell_type": "code",
   "source": [
    "# https://www.ons.gov.uk/datasets/TS022/editions/2021/versions/2/filter-outputs/70fed879-1b7b-472d-8c46-98d33b19b4d1#get-data\n",
    "# https://www.ons.gov.uk/peoplepopulationandcommunity/culturalidentity/ethnicity/bulletins/ethnicgroupenglandandwales/census2021\n",
    "df = pd.read_csv('TS022-2021-2-filtered-2024-07-17T19_58_55Z.csv')"
   ],
   "id": "25b3997ff8f8c936",
   "outputs": [],
   "execution_count": 4
  },
  {
   "metadata": {
    "ExecuteTime": {
     "end_time": "2024-07-17T20:02:16.808257Z",
     "start_time": "2024-07-17T20:02:16.733261Z"
    }
   },
   "cell_type": "code",
   "source": "df.info()",
   "id": "420aaee29dd053f7",
   "outputs": [
    {
     "name": "stdout",
     "output_type": "stream",
     "text": [
      "<class 'pandas.core.frame.DataFrame'>\n",
      "RangeIndex: 95328 entries, 0 to 95327\n",
      "Data columns (total 5 columns):\n",
      " #   Column                                         Non-Null Count  Dtype \n",
      "---  ------                                         --------------  ----- \n",
      " 0   Lower tier local authorities Code              95328 non-null  object\n",
      " 1   Lower tier local authorities                   95328 non-null  object\n",
      " 2   Ethnic Group (detailed) (288 categories) Code  95328 non-null  int64 \n",
      " 3   Ethnic Group (detailed) (288 categories)       95328 non-null  object\n",
      " 4   Observation                                    95328 non-null  int64 \n",
      "dtypes: int64(2), object(3)\n",
      "memory usage: 3.6+ MB\n"
     ]
    }
   ],
   "execution_count": 5
  },
  {
   "metadata": {
    "ExecuteTime": {
     "end_time": "2024-07-17T20:11:18.724190Z",
     "start_time": "2024-07-17T20:11:18.716617Z"
    }
   },
   "cell_type": "code",
   "source": [
    "# Rename long column names\n",
    "df.rename(columns={'Ethnic Group (detailed) (288 categories) Code': 'Ethnic Group Code', 'Ethnic Group (detailed) (288 categories)': 'Ethnic Group'}, inplace=True)"
   ],
   "id": "96a7aa30de822294",
   "outputs": [],
   "execution_count": 14
  },
  {
   "metadata": {
    "ExecuteTime": {
     "end_time": "2024-07-17T20:12:07.458696Z",
     "start_time": "2024-07-17T20:12:07.446889Z"
    }
   },
   "cell_type": "code",
   "source": [
    "# See values for ethnic group codes\n",
    "df['Ethnic Group Code'].unique()\n",
    "# There's a -8 in the table, maybe replace values in this column with non negative number?"
   ],
   "id": "bdb16faf583d73ae",
   "outputs": [
    {
     "data": {
      "text/plain": [
       "array([ -8,   1,   2,   3,   4,   5,   6,   7,   8,   9,  10,  11,  12,\n",
       "        13,  14,  15,  16,  17,  18,  19,  20,  21,  22,  23,  24,  25,\n",
       "        26,  27,  28,  29,  30,  31,  32,  33,  34,  35,  36,  37,  38,\n",
       "        39,  40,  41,  42,  43,  44,  45,  46,  47,  48,  49,  50,  51,\n",
       "        52,  53,  54,  55,  56,  57,  58,  59,  60,  61,  62,  63,  64,\n",
       "        65,  66,  67,  68,  69,  70,  71,  72,  73,  74,  75,  76,  77,\n",
       "        78,  79,  80,  81,  82,  83,  84,  85,  86,  87,  88,  89,  90,\n",
       "        91,  92,  93,  94,  95,  96,  97,  98,  99, 100, 101, 102, 103,\n",
       "       104, 105, 106, 107, 108, 109, 110, 111, 112, 113, 114, 115, 116,\n",
       "       117, 118, 119, 120, 121, 122, 123, 124, 125, 126, 127, 128, 129,\n",
       "       130, 131, 132, 133, 134, 135, 136, 137, 138, 139, 140, 141, 142,\n",
       "       143, 144, 145, 146, 147, 148, 149, 150, 151, 152, 153, 154, 155,\n",
       "       156, 157, 158, 159, 160, 161, 162, 163, 164, 165, 166, 167, 168,\n",
       "       169, 170, 171, 172, 173, 174, 175, 176, 177, 178, 179, 180, 181,\n",
       "       182, 183, 184, 185, 186, 187, 188, 189, 190, 191, 192, 193, 194,\n",
       "       195, 196, 197, 198, 199, 200, 201, 202, 203, 204, 205, 206, 207,\n",
       "       208, 209, 210, 211, 212, 213, 214, 215, 216, 217, 218, 219, 220,\n",
       "       221, 222, 223, 224, 225, 226, 227, 228, 229, 230, 231, 232, 233,\n",
       "       234, 235, 236, 237, 238, 239, 240, 241, 242, 243, 244, 245, 246,\n",
       "       247, 248, 249, 250, 251, 252, 253, 254, 255, 256, 257, 258, 259,\n",
       "       260, 261, 262, 263, 264, 265, 266, 267, 268, 269, 270, 271, 272,\n",
       "       273, 274, 275, 276, 277, 278, 279, 280, 281, 282, 283, 284, 285,\n",
       "       286, 287])"
      ]
     },
     "execution_count": 16,
     "metadata": {},
     "output_type": "execute_result"
    }
   ],
   "execution_count": 16
  },
  {
   "metadata": {
    "ExecuteTime": {
     "end_time": "2024-07-17T20:28:14.633888Z",
     "start_time": "2024-07-17T20:28:14.523169Z"
    }
   },
   "cell_type": "code",
   "source": [
    "# Create table for ethnic group code vs ethnic group\n",
    "df.groupby('Ethnic Group Code')['Ethnic Group'].unique()\n",
    "# We see here that -8 does not apply, this could dropped as it does not add to original discovery"
   ],
   "id": "76a3661ae180a8d8",
   "outputs": [
    {
     "data": {
      "text/plain": [
       "Ethnic Group Code\n",
       "-8                                       [Does not apply]\n",
       " 1          [Asian, Asian British or Asian Welsh: Afghan]\n",
       " 2      [Asian, Asian British or Asian Welsh: African ...\n",
       " 3      [Asian, Asian British or Asian Welsh: African ...\n",
       " 4      [Asian, Asian British or Asian Welsh: Anglo In...\n",
       "                              ...                        \n",
       " 283                        [Other ethnic group: Turkish]\n",
       " 284                [Other ethnic group: Turkish Cypriot]\n",
       " 285                     [Other ethnic group: Vietnamese]\n",
       " 286                  [Other ethnic group: White African]\n",
       " 287         [Other ethnic group: Any other ethnic group]\n",
       "Name: Ethnic Group, Length: 288, dtype: object"
      ]
     },
     "execution_count": 20,
     "metadata": {},
     "output_type": "execute_result"
    }
   ],
   "execution_count": 20
  },
  {
   "metadata": {
    "ExecuteTime": {
     "end_time": "2024-07-17T20:32:09.975891Z",
     "start_time": "2024-07-17T20:32:09.967572Z"
    }
   },
   "cell_type": "code",
   "source": [
    "# See how many rows have -8 as value to see if we can drop \n",
    "len(df[df['Ethnic Group Code'] == -8])\n",
    "# only 331, we can drop"
   ],
   "id": "2688238fe2285bc3",
   "outputs": [
    {
     "data": {
      "text/plain": [
       "331"
      ]
     },
     "execution_count": 23,
     "metadata": {},
     "output_type": "execute_result"
    }
   ],
   "execution_count": 23
  },
  {
   "metadata": {
    "ExecuteTime": {
     "end_time": "2024-07-17T20:35:51.055845Z",
     "start_time": "2024-07-17T20:35:50.989933Z"
    }
   },
   "cell_type": "code",
   "source": [
    "# See if there are duplicates in the data\n",
    "len(df) - len(df.drop_duplicates(keep=False))\n",
    "# None, we are good to go"
   ],
   "id": "5c202ca906a5258f",
   "outputs": [
    {
     "data": {
      "text/plain": [
       "0"
      ]
     },
     "execution_count": 25,
     "metadata": {},
     "output_type": "execute_result"
    }
   ],
   "execution_count": 25
  },
  {
   "metadata": {
    "ExecuteTime": {
     "end_time": "2024-07-17T20:39:48.868077Z",
     "start_time": "2024-07-17T20:39:48.853711Z"
    }
   },
   "cell_type": "code",
   "source": [
    "# Exclude rows that have value -8\n",
    "df_exclude_NA = df[df['Ethnic Group Code'] != -8]"
   ],
   "id": "7773b310d29bd076",
   "outputs": [],
   "execution_count": 27
  },
  {
   "metadata": {
    "ExecuteTime": {
     "end_time": "2024-07-17T20:49:32.589466Z",
     "start_time": "2024-07-17T20:49:32.580149Z"
    }
   },
   "cell_type": "code",
   "source": "index_values_non_applicable = df[df['Ethnic Group Code'] == -8]['Observation'].index.values",
   "id": "581f31034151a190",
   "outputs": [],
   "execution_count": 36
  },
  {
   "metadata": {
    "ExecuteTime": {
     "end_time": "2024-07-17T20:53:15.699546Z",
     "start_time": "2024-07-17T20:53:15.641273Z"
    }
   },
   "cell_type": "code",
   "source": [
    "df_includes_black = df_exclude_NA[df_exclude_NA['Ethnic Group'].str.contains(\"Black\")]\n",
    "black_observations = df_includes_black['Observation'].sum()\n",
    "percentage_of_partial_full_black =  black_observations / df_exclude_NA['Observation'].sum()\n",
    "print(percentage_of_partial_full_black)\n"
   ],
   "id": "e607d10af22c5336",
   "outputs": [
    {
     "name": "stdout",
     "output_type": "stream",
     "text": [
      "0.05408346535806416\n"
     ]
    }
   ],
   "execution_count": 42
  },
  {
   "metadata": {},
   "cell_type": "code",
   "outputs": [],
   "execution_count": null,
   "source": [
    "# Remove Ethnic Group into their own dataframe\n",
    "# df_code_explained = df['Ethnic Group']\n",
    "# df = df.drop(['Ethnic Group'], axis=1)"
   ],
   "id": "e88a3bc7811ba63d"
  }
 ],
 "metadata": {
  "kernelspec": {
   "display_name": "c1schemer",
   "language": "python",
   "name": "c1schemer"
  },
  "language_info": {
   "codemirror_mode": {
    "name": "ipython",
    "version": 2
   },
   "file_extension": ".py",
   "mimetype": "text/x-python",
   "name": "python",
   "nbconvert_exporter": "python",
   "pygments_lexer": "ipython2",
   "version": "2.7.6"
  }
 },
 "nbformat": 4,
 "nbformat_minor": 5
}
