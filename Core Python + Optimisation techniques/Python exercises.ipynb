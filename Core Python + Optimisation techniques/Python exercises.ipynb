{
 "cells": [
  {
   "cell_type": "markdown",
   "id": "7893d6ce",
   "metadata": {},
   "source": [
    "### Example of Forking\n",
    "\n",
    "The return value from the .fork() method tells us whether we are in the child process (== 0), in the parent process (==  $\\mathbb{R}^{+}$) or an error has occured (== $\\mathbb{R}^{-}$)"
   ]
  },
  {
   "cell_type": "code",
   "execution_count": null,
   "id": "5d81b72e",
   "metadata": {},
   "outputs": [],
   "source": [
    "import os\n",
    "\n",
    "def child():\n",
    "    print(\"\\n new child \", os.getpid())\n",
    "    os._exit(0)\n",
    "    \n",
    "def parent():\n",
    "    while True:\n",
    "        newpid = os.fork()\n",
    "        ## return value from fork() tells us if we are in\n",
    "        if newpid == 0:\n",
    "            child()\n",
    "        else:\n",
    "            pids = (os.getpid(), newpid)\n",
    "            print(\"parent: %d , child: %d \\n\" % pids)\n",
    "        reply = input(\"q for quit / c for new fork\")\n",
    "        if reply == \"c\":\n",
    "            continue\n",
    "        else:\n",
    "            break\n",
    "\n",
    "parent()"
   ]
  }
 ],
 "metadata": {
  "kernelspec": {
   "display_name": "Python [conda env:tf-gpu-cuda11] *",
   "language": "python",
   "name": "conda-env-tf-gpu-cuda11-py"
  },
  "language_info": {
   "codemirror_mode": {
    "name": "ipython",
    "version": 3
   },
   "file_extension": ".py",
   "mimetype": "text/x-python",
   "name": "python",
   "nbconvert_exporter": "python",
   "pygments_lexer": "ipython3",
   "version": "3.7.9"
  }
 },
 "nbformat": 4,
 "nbformat_minor": 5
}
