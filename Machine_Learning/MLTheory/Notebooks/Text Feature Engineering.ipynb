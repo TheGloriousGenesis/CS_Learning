{
 "cells": [
  {
   "metadata": {},
   "cell_type": "markdown",
   "source": "## Bag of words",
   "id": "23dfc8c9c7db5c45"
  },
  {
   "cell_type": "code",
   "id": "initial_id",
   "metadata": {
    "collapsed": true,
    "ExecuteTime": {
     "end_time": "2025-02-07T09:45:14.246815Z",
     "start_time": "2025-02-07T09:44:59.279905Z"
    }
   },
   "source": [
    "from sklearn.feature_extraction.text import CountVectorizer\n",
    "\n",
    "short_text = [\"The aggressive brown beast exasperated the pendantic pontificator.\"]\n",
    "vectorizer = CountVectorizer()\n",
    "# Tokenize text\n",
    "vectorizer.fit(short_text)\n",
    "# Show vectorized vocabulary\n",
    "print(vectorizer.vocabulary_)\n",
    "# Encode the text\n",
    "vector = vectorizer.transform(short_text)\n",
    "# show the encoded vector\n",
    "print(vector.shape)\n",
    "print(type(vector))\n",
    "print(vector.toarray())"
   ],
   "outputs": [
    {
     "name": "stdout",
     "output_type": "stream",
     "text": [
      "{'the': 6, 'aggressive': 0, 'brown': 2, 'beast': 1, 'exasperated': 3, 'pendantic': 4, 'pontificator': 5}\n",
      "(1, 7)\n",
      "<class 'scipy.sparse._csr.csr_matrix'>\n",
      "[[1 1 1 1 1 1 2]]\n"
     ]
    }
   ],
   "execution_count": 1
  },
  {
   "metadata": {},
   "cell_type": "markdown",
   "source": "## N gram",
   "id": "a6dd360e8068fac3"
  },
  {
   "metadata": {
    "ExecuteTime": {
     "end_time": "2025-02-07T09:49:43.485259Z",
     "start_time": "2025-02-07T09:49:43.480502Z"
    }
   },
   "cell_type": "code",
   "source": [
    "another_short_text = ['The silly puppy ran all around the yard and then bit his owner!']\n",
    "ngram_vectorizer = CountVectorizer(analyzer='word', ngram_range=(1, 2))\n",
    "# Tokenize text and fit (create) vocabulary \n",
    "counts = ngram_vectorizer.fit_transform(another_short_text)\n",
    "# show vectorized vocabulary\n",
    "print(ngram_vectorizer.get_feature_names_out())"
   ],
   "id": "d492b432e549abeb",
   "outputs": [
    {
     "name": "stdout",
     "output_type": "stream",
     "text": [
      "['all' 'all around' 'and' 'and then' 'around' 'around the' 'bit' 'bit his'\n",
      " 'his' 'his owner' 'owner' 'puppy' 'puppy ran' 'ran' 'ran all' 'silly'\n",
      " 'silly puppy' 'the' 'the silly' 'the yard' 'then' 'then bit' 'yard'\n",
      " 'yard and']\n"
     ]
    }
   ],
   "execution_count": 3
  },
  {
   "metadata": {},
   "cell_type": "code",
   "outputs": [],
   "execution_count": null,
   "source": "",
   "id": "bd52d12efe46f92d"
  }
 ],
 "metadata": {
  "kernelspec": {
   "display_name": "Python 3",
   "language": "python",
   "name": "python3"
  },
  "language_info": {
   "codemirror_mode": {
    "name": "ipython",
    "version": 2
   },
   "file_extension": ".py",
   "mimetype": "text/x-python",
   "name": "python",
   "nbconvert_exporter": "python",
   "pygments_lexer": "ipython2",
   "version": "2.7.6"
  }
 },
 "nbformat": 4,
 "nbformat_minor": 5
}
