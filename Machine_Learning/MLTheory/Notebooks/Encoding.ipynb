{
 "cells": [
  {
   "cell_type": "code",
   "execution_count": 1,
   "id": "ee4d0d6b",
   "metadata": {},
   "outputs": [
    {
     "name": "stdout",
     "output_type": "stream",
     "text": [
      "Collecting ucimlrepo\n",
      "  Downloading ucimlrepo-0.0.7-py3-none-any.whl.metadata (5.5 kB)\n",
      "Requirement already satisfied: pandas>=1.0.0 in /home/ec2-user/anaconda3/envs/python3/lib/python3.10/site-packages (from ucimlrepo) (1.5.3)\n",
      "Requirement already satisfied: certifi>=2020.12.5 in /home/ec2-user/anaconda3/envs/python3/lib/python3.10/site-packages (from ucimlrepo) (2024.12.14)\n",
      "Requirement already satisfied: python-dateutil>=2.8.1 in /home/ec2-user/anaconda3/envs/python3/lib/python3.10/site-packages (from pandas>=1.0.0->ucimlrepo) (2.9.0.post0)\n",
      "Requirement already satisfied: pytz>=2020.1 in /home/ec2-user/anaconda3/envs/python3/lib/python3.10/site-packages (from pandas>=1.0.0->ucimlrepo) (2024.2)\n",
      "Requirement already satisfied: numpy>=1.21.0 in /home/ec2-user/anaconda3/envs/python3/lib/python3.10/site-packages (from pandas>=1.0.0->ucimlrepo) (1.26.4)\n",
      "Requirement already satisfied: six>=1.5 in /home/ec2-user/anaconda3/envs/python3/lib/python3.10/site-packages (from python-dateutil>=2.8.1->pandas>=1.0.0->ucimlrepo) (1.17.0)\n",
      "Downloading ucimlrepo-0.0.7-py3-none-any.whl (8.0 kB)\n",
      "Installing collected packages: ucimlrepo\n",
      "Successfully installed ucimlrepo-0.0.7\n"
     ]
    }
   ],
   "source": [
    "import pandas as pd\n",
    "import numpy as np\n",
    "!pip install ucimlrepo\n",
    "from ucimlrepo import fetch_ucirepo "
   ]
  },
  {
   "cell_type": "code",
   "execution_count": 2,
   "id": "3e90c131",
   "metadata": {},
   "outputs": [],
   "source": [
    "class color:\n",
    "  PURPLE = '\\033[95M'\n",
    "  CYAN = '\\033[96M'\n",
    "  DARYCYAN = '\\033[36M'\n",
    "  BLUE = '\\033[94M'\n",
    "  GREEN ='\\033[92M'\n",
    "  YELLOW = '\\033[93M'\n",
    "  RED = '\\033[91M'\n",
    "  BOLD = '\\033[1M'\n",
    "  UNDERLINE = '\\033[4M'\n",
    "  END = '\\033[0M'"
   ]
  },
  {
   "cell_type": "code",
   "execution_count": 3,
   "id": "e4c71828",
   "metadata": {},
   "outputs": [],
   "source": [
    "# headers = [\"age\", \"workclass\", \"fnlwgt\", \"education\", \"education-num\", \"martial-status\", \"occupation\", \"relationship\",\n",
    "#            \"race\", \"sex\",\"capital-gains\", \"capital-loss\", \"hours-per-week\", \"native-country\", \"income\"]\n",
    "\n",
    "census_income = fetch_ucirepo(id=20) \n",
    "# df = pd.read_csv(url, header=None, names=headers, error_bad_lines=False, na_values=\"null\")\n",
    "# df.head(10)\n",
    "\n",
    "X = census_income.data.features \n",
    "y = census_income.data.targets"
   ]
  },
  {
   "cell_type": "code",
   "execution_count": null,
   "id": "10548dbe",
   "metadata": {},
   "outputs": [],
   "source": [
    "# check feature types to help see what you might need to encode\n",
    "X.dtypes"
   ]
  },
  {
   "cell_type": "code",
   "execution_count": 4,
   "id": "bc40d821",
   "metadata": {},
   "outputs": [
    {
     "data": {
      "text/html": [
       "<div>\n",
       "<style scoped>\n",
       "    .dataframe tbody tr th:only-of-type {\n",
       "        vertical-align: middle;\n",
       "    }\n",
       "\n",
       "    .dataframe tbody tr th {\n",
       "        vertical-align: top;\n",
       "    }\n",
       "\n",
       "    .dataframe thead th {\n",
       "        text-align: right;\n",
       "    }\n",
       "</style>\n",
       "<table border=\"1\" class=\"dataframe\">\n",
       "  <thead>\n",
       "    <tr style=\"text-align: right;\">\n",
       "      <th></th>\n",
       "      <th>workclass</th>\n",
       "      <th>education</th>\n",
       "      <th>marital-status</th>\n",
       "      <th>occupation</th>\n",
       "      <th>relationship</th>\n",
       "      <th>race</th>\n",
       "      <th>sex</th>\n",
       "      <th>native-country</th>\n",
       "    </tr>\n",
       "  </thead>\n",
       "  <tbody>\n",
       "    <tr>\n",
       "      <th>0</th>\n",
       "      <td>State-gov</td>\n",
       "      <td>Bachelors</td>\n",
       "      <td>Never-married</td>\n",
       "      <td>Adm-clerical</td>\n",
       "      <td>Not-in-family</td>\n",
       "      <td>White</td>\n",
       "      <td>Male</td>\n",
       "      <td>United-States</td>\n",
       "    </tr>\n",
       "    <tr>\n",
       "      <th>1</th>\n",
       "      <td>Self-emp-not-inc</td>\n",
       "      <td>Bachelors</td>\n",
       "      <td>Married-civ-spouse</td>\n",
       "      <td>Exec-managerial</td>\n",
       "      <td>Husband</td>\n",
       "      <td>White</td>\n",
       "      <td>Male</td>\n",
       "      <td>United-States</td>\n",
       "    </tr>\n",
       "    <tr>\n",
       "      <th>2</th>\n",
       "      <td>Private</td>\n",
       "      <td>HS-grad</td>\n",
       "      <td>Divorced</td>\n",
       "      <td>Handlers-cleaners</td>\n",
       "      <td>Not-in-family</td>\n",
       "      <td>White</td>\n",
       "      <td>Male</td>\n",
       "      <td>United-States</td>\n",
       "    </tr>\n",
       "    <tr>\n",
       "      <th>3</th>\n",
       "      <td>Private</td>\n",
       "      <td>11th</td>\n",
       "      <td>Married-civ-spouse</td>\n",
       "      <td>Handlers-cleaners</td>\n",
       "      <td>Husband</td>\n",
       "      <td>Black</td>\n",
       "      <td>Male</td>\n",
       "      <td>United-States</td>\n",
       "    </tr>\n",
       "    <tr>\n",
       "      <th>4</th>\n",
       "      <td>Private</td>\n",
       "      <td>Bachelors</td>\n",
       "      <td>Married-civ-spouse</td>\n",
       "      <td>Prof-specialty</td>\n",
       "      <td>Wife</td>\n",
       "      <td>Black</td>\n",
       "      <td>Female</td>\n",
       "      <td>Cuba</td>\n",
       "    </tr>\n",
       "    <tr>\n",
       "      <th>...</th>\n",
       "      <td>...</td>\n",
       "      <td>...</td>\n",
       "      <td>...</td>\n",
       "      <td>...</td>\n",
       "      <td>...</td>\n",
       "      <td>...</td>\n",
       "      <td>...</td>\n",
       "      <td>...</td>\n",
       "    </tr>\n",
       "    <tr>\n",
       "      <th>48837</th>\n",
       "      <td>Private</td>\n",
       "      <td>Bachelors</td>\n",
       "      <td>Divorced</td>\n",
       "      <td>Prof-specialty</td>\n",
       "      <td>Not-in-family</td>\n",
       "      <td>White</td>\n",
       "      <td>Female</td>\n",
       "      <td>United-States</td>\n",
       "    </tr>\n",
       "    <tr>\n",
       "      <th>48838</th>\n",
       "      <td>NaN</td>\n",
       "      <td>HS-grad</td>\n",
       "      <td>Widowed</td>\n",
       "      <td>NaN</td>\n",
       "      <td>Other-relative</td>\n",
       "      <td>Black</td>\n",
       "      <td>Male</td>\n",
       "      <td>United-States</td>\n",
       "    </tr>\n",
       "    <tr>\n",
       "      <th>48839</th>\n",
       "      <td>Private</td>\n",
       "      <td>Bachelors</td>\n",
       "      <td>Married-civ-spouse</td>\n",
       "      <td>Prof-specialty</td>\n",
       "      <td>Husband</td>\n",
       "      <td>White</td>\n",
       "      <td>Male</td>\n",
       "      <td>United-States</td>\n",
       "    </tr>\n",
       "    <tr>\n",
       "      <th>48840</th>\n",
       "      <td>Private</td>\n",
       "      <td>Bachelors</td>\n",
       "      <td>Divorced</td>\n",
       "      <td>Adm-clerical</td>\n",
       "      <td>Own-child</td>\n",
       "      <td>Asian-Pac-Islander</td>\n",
       "      <td>Male</td>\n",
       "      <td>United-States</td>\n",
       "    </tr>\n",
       "    <tr>\n",
       "      <th>48841</th>\n",
       "      <td>Self-emp-inc</td>\n",
       "      <td>Bachelors</td>\n",
       "      <td>Married-civ-spouse</td>\n",
       "      <td>Exec-managerial</td>\n",
       "      <td>Husband</td>\n",
       "      <td>White</td>\n",
       "      <td>Male</td>\n",
       "      <td>United-States</td>\n",
       "    </tr>\n",
       "  </tbody>\n",
       "</table>\n",
       "<p>48842 rows × 8 columns</p>\n",
       "</div>"
      ],
      "text/plain": [
       "              workclass  education      marital-status         occupation  \\\n",
       "0             State-gov  Bachelors       Never-married       Adm-clerical   \n",
       "1      Self-emp-not-inc  Bachelors  Married-civ-spouse    Exec-managerial   \n",
       "2               Private    HS-grad            Divorced  Handlers-cleaners   \n",
       "3               Private       11th  Married-civ-spouse  Handlers-cleaners   \n",
       "4               Private  Bachelors  Married-civ-spouse     Prof-specialty   \n",
       "...                 ...        ...                 ...                ...   \n",
       "48837           Private  Bachelors            Divorced     Prof-specialty   \n",
       "48838               NaN    HS-grad             Widowed                NaN   \n",
       "48839           Private  Bachelors  Married-civ-spouse     Prof-specialty   \n",
       "48840           Private  Bachelors            Divorced       Adm-clerical   \n",
       "48841      Self-emp-inc  Bachelors  Married-civ-spouse    Exec-managerial   \n",
       "\n",
       "         relationship                race     sex native-country  \n",
       "0       Not-in-family               White    Male  United-States  \n",
       "1             Husband               White    Male  United-States  \n",
       "2       Not-in-family               White    Male  United-States  \n",
       "3             Husband               Black    Male  United-States  \n",
       "4                Wife               Black  Female           Cuba  \n",
       "...               ...                 ...     ...            ...  \n",
       "48837   Not-in-family               White  Female  United-States  \n",
       "48838  Other-relative               Black    Male  United-States  \n",
       "48839         Husband               White    Male  United-States  \n",
       "48840       Own-child  Asian-Pac-Islander    Male  United-States  \n",
       "48841         Husband               White    Male  United-States  \n",
       "\n",
       "[48842 rows x 8 columns]"
      ]
     },
     "execution_count": 4,
     "metadata": {},
     "output_type": "execute_result"
    }
   ],
   "source": [
    "# Select columns of types object and copies them into own dataframe!\n",
    "categorical_X = X.select_dtypes(include=['object']).copy()\n",
    "categorical_X"
   ]
  },
  {
   "cell_type": "code",
   "execution_count": 5,
   "id": "8c0822e9",
   "metadata": {},
   "outputs": [
    {
     "data": {
      "text/html": [
       "<div>\n",
       "<style scoped>\n",
       "    .dataframe tbody tr th:only-of-type {\n",
       "        vertical-align: middle;\n",
       "    }\n",
       "\n",
       "    .dataframe tbody tr th {\n",
       "        vertical-align: top;\n",
       "    }\n",
       "\n",
       "    .dataframe thead th {\n",
       "        text-align: right;\n",
       "    }\n",
       "</style>\n",
       "<table border=\"1\" class=\"dataframe\">\n",
       "  <thead>\n",
       "    <tr style=\"text-align: right;\">\n",
       "      <th></th>\n",
       "      <th>workclass</th>\n",
       "      <th>education</th>\n",
       "      <th>marital-status</th>\n",
       "      <th>occupation</th>\n",
       "      <th>relationship</th>\n",
       "      <th>race</th>\n",
       "      <th>sex</th>\n",
       "      <th>native-country</th>\n",
       "    </tr>\n",
       "  </thead>\n",
       "  <tbody>\n",
       "    <tr>\n",
       "      <th>32565</th>\n",
       "      <td>NaN</td>\n",
       "      <td>Some-college</td>\n",
       "      <td>Never-married</td>\n",
       "      <td>NaN</td>\n",
       "      <td>Own-child</td>\n",
       "      <td>White</td>\n",
       "      <td>Female</td>\n",
       "      <td>United-States</td>\n",
       "    </tr>\n",
       "    <tr>\n",
       "      <th>32567</th>\n",
       "      <td>NaN</td>\n",
       "      <td>HS-grad</td>\n",
       "      <td>Never-married</td>\n",
       "      <td>NaN</td>\n",
       "      <td>Unmarried</td>\n",
       "      <td>Black</td>\n",
       "      <td>Male</td>\n",
       "      <td>United-States</td>\n",
       "    </tr>\n",
       "    <tr>\n",
       "      <th>32574</th>\n",
       "      <td>NaN</td>\n",
       "      <td>HS-grad</td>\n",
       "      <td>Married-civ-spouse</td>\n",
       "      <td>NaN</td>\n",
       "      <td>Husband</td>\n",
       "      <td>White</td>\n",
       "      <td>Male</td>\n",
       "      <td>United-States</td>\n",
       "    </tr>\n",
       "    <tr>\n",
       "      <th>32580</th>\n",
       "      <td>Private</td>\n",
       "      <td>Doctorate</td>\n",
       "      <td>Married-civ-spouse</td>\n",
       "      <td>Prof-specialty</td>\n",
       "      <td>Husband</td>\n",
       "      <td>Asian-Pac-Islander</td>\n",
       "      <td>Male</td>\n",
       "      <td>NaN</td>\n",
       "    </tr>\n",
       "    <tr>\n",
       "      <th>32583</th>\n",
       "      <td>NaN</td>\n",
       "      <td>7th-8th</td>\n",
       "      <td>Divorced</td>\n",
       "      <td>NaN</td>\n",
       "      <td>Not-in-family</td>\n",
       "      <td>White</td>\n",
       "      <td>Female</td>\n",
       "      <td>United-States</td>\n",
       "    </tr>\n",
       "    <tr>\n",
       "      <th>...</th>\n",
       "      <td>...</td>\n",
       "      <td>...</td>\n",
       "      <td>...</td>\n",
       "      <td>...</td>\n",
       "      <td>...</td>\n",
       "      <td>...</td>\n",
       "      <td>...</td>\n",
       "      <td>...</td>\n",
       "    </tr>\n",
       "    <tr>\n",
       "      <th>48769</th>\n",
       "      <td>NaN</td>\n",
       "      <td>Some-college</td>\n",
       "      <td>Never-married</td>\n",
       "      <td>NaN</td>\n",
       "      <td>Own-child</td>\n",
       "      <td>White</td>\n",
       "      <td>Female</td>\n",
       "      <td>United-States</td>\n",
       "    </tr>\n",
       "    <tr>\n",
       "      <th>48800</th>\n",
       "      <td>NaN</td>\n",
       "      <td>HS-grad</td>\n",
       "      <td>Married-civ-spouse</td>\n",
       "      <td>NaN</td>\n",
       "      <td>Husband</td>\n",
       "      <td>White</td>\n",
       "      <td>Male</td>\n",
       "      <td>Canada</td>\n",
       "    </tr>\n",
       "    <tr>\n",
       "      <th>48812</th>\n",
       "      <td>NaN</td>\n",
       "      <td>Assoc-voc</td>\n",
       "      <td>Married-civ-spouse</td>\n",
       "      <td>NaN</td>\n",
       "      <td>Husband</td>\n",
       "      <td>White</td>\n",
       "      <td>Male</td>\n",
       "      <td>United-States</td>\n",
       "    </tr>\n",
       "    <tr>\n",
       "      <th>48826</th>\n",
       "      <td>Local-gov</td>\n",
       "      <td>Masters</td>\n",
       "      <td>Married-civ-spouse</td>\n",
       "      <td>Prof-specialty</td>\n",
       "      <td>Wife</td>\n",
       "      <td>White</td>\n",
       "      <td>Female</td>\n",
       "      <td>NaN</td>\n",
       "    </tr>\n",
       "    <tr>\n",
       "      <th>48838</th>\n",
       "      <td>NaN</td>\n",
       "      <td>HS-grad</td>\n",
       "      <td>Widowed</td>\n",
       "      <td>NaN</td>\n",
       "      <td>Other-relative</td>\n",
       "      <td>Black</td>\n",
       "      <td>Male</td>\n",
       "      <td>United-States</td>\n",
       "    </tr>\n",
       "  </tbody>\n",
       "</table>\n",
       "<p>1221 rows × 8 columns</p>\n",
       "</div>"
      ],
      "text/plain": [
       "       workclass     education      marital-status      occupation  \\\n",
       "32565        NaN  Some-college       Never-married             NaN   \n",
       "32567        NaN       HS-grad       Never-married             NaN   \n",
       "32574        NaN       HS-grad  Married-civ-spouse             NaN   \n",
       "32580    Private     Doctorate  Married-civ-spouse  Prof-specialty   \n",
       "32583        NaN       7th-8th            Divorced             NaN   \n",
       "...          ...           ...                 ...             ...   \n",
       "48769        NaN  Some-college       Never-married             NaN   \n",
       "48800        NaN       HS-grad  Married-civ-spouse             NaN   \n",
       "48812        NaN     Assoc-voc  Married-civ-spouse             NaN   \n",
       "48826  Local-gov       Masters  Married-civ-spouse  Prof-specialty   \n",
       "48838        NaN       HS-grad             Widowed             NaN   \n",
       "\n",
       "         relationship                race     sex native-country  \n",
       "32565       Own-child               White  Female  United-States  \n",
       "32567       Unmarried               Black    Male  United-States  \n",
       "32574         Husband               White    Male  United-States  \n",
       "32580         Husband  Asian-Pac-Islander    Male            NaN  \n",
       "32583   Not-in-family               White  Female  United-States  \n",
       "...               ...                 ...     ...            ...  \n",
       "48769       Own-child               White  Female  United-States  \n",
       "48800         Husband               White    Male         Canada  \n",
       "48812         Husband               White    Male  United-States  \n",
       "48826            Wife               White  Female            NaN  \n",
       "48838  Other-relative               Black    Male  United-States  \n",
       "\n",
       "[1221 rows x 8 columns]"
      ]
     },
     "execution_count": 5,
     "metadata": {},
     "output_type": "execute_result"
    }
   ],
   "source": [
    "# View Nan values (checks for every row (Y=1) if there is null, if there is return true and filters out df)\n",
    "categorical_X_NaN = categorical_X[categorical_X.isnull().any(axis=1)]\n",
    "categorical_X_NaN"
   ]
  },
  {
   "cell_type": "code",
   "execution_count": 6,
   "id": "c53aeaab",
   "metadata": {},
   "outputs": [
    {
     "data": {
      "text/plain": [
       "['workclass', 'occupation', 'native-country']"
      ]
     },
     "execution_count": 6,
     "metadata": {},
     "output_type": "execute_result"
    }
   ],
   "source": [
    "# Which features have NaN values?\n",
    "categorical_X_NaN_features = categorical_X.columns[categorical_X.isna().any()].tolist()\n",
    "categorical_X_NaN_features"
   ]
  },
  {
   "cell_type": "code",
   "execution_count": 7,
   "id": "f5e1f7c3",
   "metadata": {},
   "outputs": [],
   "source": [
    "# Impute all features that have NaN with most frequent\n",
    "from sklearn.impute import SimpleImputer"
   ]
  },
  {
   "cell_type": "code",
   "execution_count": 8,
   "id": "8b197b4c",
   "metadata": {},
   "outputs": [
    {
     "name": "stderr",
     "output_type": "stream",
     "text": [
      "/tmp/ipykernel_11868/2630745479.py:5: SettingWithCopyWarning: \n",
      "A value is trying to be set on a copy of a slice from a DataFrame.\n",
      "Try using .loc[row_indexer,col_indexer] = value instead\n",
      "\n",
      "See the caveats in the documentation: https://pandas.pydata.org/pandas-docs/stable/user_guide/indexing.html#returning-a-view-versus-a-copy\n",
      "  X['workclass'] = imputer.transform(X[['workclass']]).ravel()\n",
      "/tmp/ipykernel_11868/2630745479.py:9: SettingWithCopyWarning: \n",
      "A value is trying to be set on a copy of a slice from a DataFrame.\n",
      "Try using .loc[row_indexer,col_indexer] = value instead\n",
      "\n",
      "See the caveats in the documentation: https://pandas.pydata.org/pandas-docs/stable/user_guide/indexing.html#returning-a-view-versus-a-copy\n",
      "  X[\"occupation\"] = imputer.transform(X[[\"occupation\"]]).ravel()\n",
      "/tmp/ipykernel_11868/2630745479.py:13: SettingWithCopyWarning: \n",
      "A value is trying to be set on a copy of a slice from a DataFrame.\n",
      "Try using .loc[row_indexer,col_indexer] = value instead\n",
      "\n",
      "See the caveats in the documentation: https://pandas.pydata.org/pandas-docs/stable/user_guide/indexing.html#returning-a-view-versus-a-copy\n",
      "  X[\"native-country\"] = imputer.transform(X[[\"native-country\"]]).ravel()\n"
     ]
    }
   ],
   "source": [
    "imputer = SimpleImputer(missing_values=np.nan, strategy=\"most_frequent\")\n",
    "\n",
    "# impute value for workclass\n",
    "imputer = imputer.fit(X[['workclass']])\n",
    "X['workclass'] = imputer.transform(X[['workclass']]).ravel()\n",
    "\n",
    "# impute value for occupation\n",
    "imputer = imputer.fit(X[[\"occupation\"]])\n",
    "X[\"occupation\"] = imputer.transform(X[[\"occupation\"]]).ravel()\n",
    "\n",
    "# impute value for native-country\n",
    "imputer = imputer.fit(X[[\"native-country\"]])\n",
    "X[\"native-country\"] = imputer.transform(X[[\"native-country\"]]).ravel()"
   ]
  },
  {
   "cell_type": "code",
   "execution_count": 9,
   "id": "cec3787c",
   "metadata": {},
   "outputs": [
    {
     "data": {
      "text/plain": [
       "[]"
      ]
     },
     "execution_count": 9,
     "metadata": {},
     "output_type": "execute_result"
    }
   ],
   "source": [
    "# recreate dataframe with only categorical features\n",
    "categorical_X = X.select_dtypes(include=['object']).copy()\n",
    "# recheck to find any null values \n",
    "categorical_X_NaN = categorical_X[categorical_X.isnull().any(axis=1)]\n",
    "# recheck to see which features are null\n",
    "categorical_X_NaN_features = categorical_X_NaN.columns[categorical_X_NaN.isna().any()].to_list()\n",
    "categorical_X_NaN_features"
   ]
  },
  {
   "cell_type": "markdown",
   "id": "f7dec80a",
   "metadata": {},
   "source": [
    "## Binary encoder\n",
    "One two values for categorial nomial column"
   ]
  },
  {
   "cell_type": "code",
   "execution_count": 11,
   "id": "7bd7677a",
   "metadata": {},
   "outputs": [
    {
     "name": "stdout",
     "output_type": "stream",
     "text": [
      "\u001B[1M\u001B[95M\n",
      "How many different sex features types?\u001B[0M\n",
      "Male      32650\n",
      "Female    16192\n",
      "Name: sex, dtype: int64\n"
     ]
    }
   ],
   "source": [
    "# Use binary encoding for the sex feature\n",
    "from sklearn.preprocessing import LabelBinarizer\n",
    "\n",
    "# How many different sex feature value types\n",
    "# len(X[\"sex\"].unique())\n",
    "print(color.BOLD + color.PURPLE + \"\\nHow many different sex features types?\" + color.END)\n",
    "# Counts how many observations of each type of sex!\n",
    "print(X[\"sex\"].value_counts())"
   ]
  },
  {
   "cell_type": "code",
   "execution_count": 13,
   "id": "1d711389",
   "metadata": {},
   "outputs": [
    {
     "name": "stdout",
     "output_type": "stream",
     "text": [
      "\n",
      "LabelBinarizer of sex feature:\n"
     ]
    },
    {
     "data": {
      "text/html": [
       "<div>\n",
       "<style scoped>\n",
       "    .dataframe tbody tr th:only-of-type {\n",
       "        vertical-align: middle;\n",
       "    }\n",
       "\n",
       "    .dataframe tbody tr th {\n",
       "        vertical-align: top;\n",
       "    }\n",
       "\n",
       "    .dataframe thead th {\n",
       "        text-align: right;\n",
       "    }\n",
       "</style>\n",
       "<table border=\"1\" class=\"dataframe\">\n",
       "  <thead>\n",
       "    <tr style=\"text-align: right;\">\n",
       "      <th></th>\n",
       "      <th>sex</th>\n",
       "      <th>sex_code</th>\n",
       "    </tr>\n",
       "  </thead>\n",
       "  <tbody>\n",
       "    <tr>\n",
       "      <th>0</th>\n",
       "      <td>Male</td>\n",
       "      <td>1</td>\n",
       "    </tr>\n",
       "    <tr>\n",
       "      <th>1</th>\n",
       "      <td>Male</td>\n",
       "      <td>1</td>\n",
       "    </tr>\n",
       "    <tr>\n",
       "      <th>2</th>\n",
       "      <td>Male</td>\n",
       "      <td>1</td>\n",
       "    </tr>\n",
       "    <tr>\n",
       "      <th>3</th>\n",
       "      <td>Male</td>\n",
       "      <td>1</td>\n",
       "    </tr>\n",
       "    <tr>\n",
       "      <th>4</th>\n",
       "      <td>Female</td>\n",
       "      <td>0</td>\n",
       "    </tr>\n",
       "    <tr>\n",
       "      <th>...</th>\n",
       "      <td>...</td>\n",
       "      <td>...</td>\n",
       "    </tr>\n",
       "    <tr>\n",
       "      <th>48837</th>\n",
       "      <td>Female</td>\n",
       "      <td>0</td>\n",
       "    </tr>\n",
       "    <tr>\n",
       "      <th>48838</th>\n",
       "      <td>Male</td>\n",
       "      <td>1</td>\n",
       "    </tr>\n",
       "    <tr>\n",
       "      <th>48839</th>\n",
       "      <td>Male</td>\n",
       "      <td>1</td>\n",
       "    </tr>\n",
       "    <tr>\n",
       "      <th>48840</th>\n",
       "      <td>Male</td>\n",
       "      <td>1</td>\n",
       "    </tr>\n",
       "    <tr>\n",
       "      <th>48841</th>\n",
       "      <td>Male</td>\n",
       "      <td>1</td>\n",
       "    </tr>\n",
       "  </tbody>\n",
       "</table>\n",
       "<p>48842 rows × 2 columns</p>\n",
       "</div>"
      ],
      "text/plain": [
       "          sex  sex_code\n",
       "0        Male         1\n",
       "1        Male         1\n",
       "2        Male         1\n",
       "3        Male         1\n",
       "4      Female         0\n",
       "...       ...       ...\n",
       "48837  Female         0\n",
       "48838    Male         1\n",
       "48839    Male         1\n",
       "48840    Male         1\n",
       "48841    Male         1\n",
       "\n",
       "[48842 rows x 2 columns]"
      ]
     },
     "execution_count": 13,
     "metadata": {},
     "output_type": "execute_result"
    }
   ],
   "source": [
    "label_style = LabelBinarizer()\n",
    "# can use pd.Series (unlike encoder)\n",
    "label_results = label_style.fit_transform(X[\"sex\"]) \n",
    "print(\"\\nLabelBinarizer of sex feature:\")\n",
    "# Create a new column (columns are pd dataframes) with sex encoding\n",
    "X[\"sex_code\"] = pd.DataFrame({\"sex\": label_results[:, 0]})\n",
    "X[[\"sex\", \"sex_code\"]]"
   ]
  },
  {
   "cell_type": "markdown",
   "id": "fda5f874",
   "metadata": {},
   "source": [
    "## Label Encoder \n",
    "multiple value categorical nomial column"
   ]
  },
  {
   "cell_type": "code",
   "execution_count": 14,
   "id": "ef0bf36c",
   "metadata": {},
   "outputs": [
    {
     "data": {
      "text/html": [
       "<div>\n",
       "<style scoped>\n",
       "    .dataframe tbody tr th:only-of-type {\n",
       "        vertical-align: middle;\n",
       "    }\n",
       "\n",
       "    .dataframe tbody tr th {\n",
       "        vertical-align: top;\n",
       "    }\n",
       "\n",
       "    .dataframe thead th {\n",
       "        text-align: right;\n",
       "    }\n",
       "</style>\n",
       "<table border=\"1\" class=\"dataframe\">\n",
       "  <thead>\n",
       "    <tr style=\"text-align: right;\">\n",
       "      <th></th>\n",
       "      <th>workclass</th>\n",
       "      <th>workclass_code</th>\n",
       "    </tr>\n",
       "  </thead>\n",
       "  <tbody>\n",
       "    <tr>\n",
       "      <th>0</th>\n",
       "      <td>State-gov</td>\n",
       "      <td>7</td>\n",
       "    </tr>\n",
       "    <tr>\n",
       "      <th>1</th>\n",
       "      <td>Self-emp-not-inc</td>\n",
       "      <td>6</td>\n",
       "    </tr>\n",
       "    <tr>\n",
       "      <th>2</th>\n",
       "      <td>Private</td>\n",
       "      <td>4</td>\n",
       "    </tr>\n",
       "    <tr>\n",
       "      <th>3</th>\n",
       "      <td>Private</td>\n",
       "      <td>4</td>\n",
       "    </tr>\n",
       "    <tr>\n",
       "      <th>4</th>\n",
       "      <td>Private</td>\n",
       "      <td>4</td>\n",
       "    </tr>\n",
       "    <tr>\n",
       "      <th>...</th>\n",
       "      <td>...</td>\n",
       "      <td>...</td>\n",
       "    </tr>\n",
       "    <tr>\n",
       "      <th>48837</th>\n",
       "      <td>Private</td>\n",
       "      <td>4</td>\n",
       "    </tr>\n",
       "    <tr>\n",
       "      <th>48838</th>\n",
       "      <td>Private</td>\n",
       "      <td>4</td>\n",
       "    </tr>\n",
       "    <tr>\n",
       "      <th>48839</th>\n",
       "      <td>Private</td>\n",
       "      <td>4</td>\n",
       "    </tr>\n",
       "    <tr>\n",
       "      <th>48840</th>\n",
       "      <td>Private</td>\n",
       "      <td>4</td>\n",
       "    </tr>\n",
       "    <tr>\n",
       "      <th>48841</th>\n",
       "      <td>Self-emp-inc</td>\n",
       "      <td>5</td>\n",
       "    </tr>\n",
       "  </tbody>\n",
       "</table>\n",
       "<p>48842 rows × 2 columns</p>\n",
       "</div>"
      ],
      "text/plain": [
       "              workclass  workclass_code\n",
       "0             State-gov               7\n",
       "1      Self-emp-not-inc               6\n",
       "2               Private               4\n",
       "3               Private               4\n",
       "4               Private               4\n",
       "...                 ...             ...\n",
       "48837           Private               4\n",
       "48838           Private               4\n",
       "48839           Private               4\n",
       "48840           Private               4\n",
       "48841      Self-emp-inc               5\n",
       "\n",
       "[48842 rows x 2 columns]"
      ]
     },
     "execution_count": 14,
     "metadata": {},
     "output_type": "execute_result"
    }
   ],
   "source": [
    "from sklearn.preprocessing import LabelEncoder\n",
    "label_encoder = LabelEncoder()\n",
    "X[\"workclass_code\"] = label_encoder.fit_transform(X[\"workclass\"])\n",
    "X[[\"workclass\", \"workclass_code\"]]"
   ]
  },
  {
   "cell_type": "markdown",
   "id": "4bc95311",
   "metadata": {},
   "source": [
    "## One hot encoding\n",
    "to reduce issue with ordinality in label encoder above (in some algorithms may induce that)"
   ]
  },
  {
   "cell_type": "code",
   "execution_count": 23,
   "id": "64f5a9b7",
   "metadata": {},
   "outputs": [
    {
     "data": {
      "text/plain": [
       "Private             34869\n",
       "Self-emp-not-inc     3862\n",
       "Local-gov            3136\n",
       "State-gov            1981\n",
       "?                    1836\n",
       "Self-emp-inc         1695\n",
       "Federal-gov          1432\n",
       "Without-pay            21\n",
       "Never-worked           10\n",
       "Name: workclass, dtype: int64"
      ]
     },
     "execution_count": 23,
     "metadata": {},
     "output_type": "execute_result"
    }
   ],
   "source": [
    "categorical_X[\"workclass\"].value_counts()"
   ]
  },
  {
   "cell_type": "code",
   "execution_count": 24,
   "id": "60bba3f7",
   "metadata": {},
   "outputs": [
    {
     "data": {
      "text/html": [
       "<div>\n",
       "<style scoped>\n",
       "    .dataframe tbody tr th:only-of-type {\n",
       "        vertical-align: middle;\n",
       "    }\n",
       "\n",
       "    .dataframe tbody tr th {\n",
       "        vertical-align: top;\n",
       "    }\n",
       "\n",
       "    .dataframe thead th {\n",
       "        text-align: right;\n",
       "    }\n",
       "</style>\n",
       "<table border=\"1\" class=\"dataframe\">\n",
       "  <thead>\n",
       "    <tr style=\"text-align: right;\">\n",
       "      <th></th>\n",
       "      <th>education</th>\n",
       "      <th>marital-status</th>\n",
       "      <th>occupation</th>\n",
       "      <th>relationship</th>\n",
       "      <th>race</th>\n",
       "      <th>sex</th>\n",
       "      <th>native-country</th>\n",
       "      <th>workclass_?</th>\n",
       "      <th>workclass_Federal-gov</th>\n",
       "      <th>workclass_Local-gov</th>\n",
       "      <th>workclass_Never-worked</th>\n",
       "      <th>workclass_Private</th>\n",
       "      <th>workclass_Self-emp-inc</th>\n",
       "      <th>workclass_Self-emp-not-inc</th>\n",
       "      <th>workclass_State-gov</th>\n",
       "      <th>workclass_Without-pay</th>\n",
       "    </tr>\n",
       "  </thead>\n",
       "  <tbody>\n",
       "    <tr>\n",
       "      <th>0</th>\n",
       "      <td>Bachelors</td>\n",
       "      <td>Never-married</td>\n",
       "      <td>Adm-clerical</td>\n",
       "      <td>Not-in-family</td>\n",
       "      <td>White</td>\n",
       "      <td>Male</td>\n",
       "      <td>United-States</td>\n",
       "      <td>0</td>\n",
       "      <td>0</td>\n",
       "      <td>0</td>\n",
       "      <td>0</td>\n",
       "      <td>0</td>\n",
       "      <td>0</td>\n",
       "      <td>0</td>\n",
       "      <td>1</td>\n",
       "      <td>0</td>\n",
       "    </tr>\n",
       "    <tr>\n",
       "      <th>1</th>\n",
       "      <td>Bachelors</td>\n",
       "      <td>Married-civ-spouse</td>\n",
       "      <td>Exec-managerial</td>\n",
       "      <td>Husband</td>\n",
       "      <td>White</td>\n",
       "      <td>Male</td>\n",
       "      <td>United-States</td>\n",
       "      <td>0</td>\n",
       "      <td>0</td>\n",
       "      <td>0</td>\n",
       "      <td>0</td>\n",
       "      <td>0</td>\n",
       "      <td>0</td>\n",
       "      <td>1</td>\n",
       "      <td>0</td>\n",
       "      <td>0</td>\n",
       "    </tr>\n",
       "    <tr>\n",
       "      <th>2</th>\n",
       "      <td>HS-grad</td>\n",
       "      <td>Divorced</td>\n",
       "      <td>Handlers-cleaners</td>\n",
       "      <td>Not-in-family</td>\n",
       "      <td>White</td>\n",
       "      <td>Male</td>\n",
       "      <td>United-States</td>\n",
       "      <td>0</td>\n",
       "      <td>0</td>\n",
       "      <td>0</td>\n",
       "      <td>0</td>\n",
       "      <td>1</td>\n",
       "      <td>0</td>\n",
       "      <td>0</td>\n",
       "      <td>0</td>\n",
       "      <td>0</td>\n",
       "    </tr>\n",
       "    <tr>\n",
       "      <th>3</th>\n",
       "      <td>11th</td>\n",
       "      <td>Married-civ-spouse</td>\n",
       "      <td>Handlers-cleaners</td>\n",
       "      <td>Husband</td>\n",
       "      <td>Black</td>\n",
       "      <td>Male</td>\n",
       "      <td>United-States</td>\n",
       "      <td>0</td>\n",
       "      <td>0</td>\n",
       "      <td>0</td>\n",
       "      <td>0</td>\n",
       "      <td>1</td>\n",
       "      <td>0</td>\n",
       "      <td>0</td>\n",
       "      <td>0</td>\n",
       "      <td>0</td>\n",
       "    </tr>\n",
       "    <tr>\n",
       "      <th>4</th>\n",
       "      <td>Bachelors</td>\n",
       "      <td>Married-civ-spouse</td>\n",
       "      <td>Prof-specialty</td>\n",
       "      <td>Wife</td>\n",
       "      <td>Black</td>\n",
       "      <td>Female</td>\n",
       "      <td>Cuba</td>\n",
       "      <td>0</td>\n",
       "      <td>0</td>\n",
       "      <td>0</td>\n",
       "      <td>0</td>\n",
       "      <td>1</td>\n",
       "      <td>0</td>\n",
       "      <td>0</td>\n",
       "      <td>0</td>\n",
       "      <td>0</td>\n",
       "    </tr>\n",
       "  </tbody>\n",
       "</table>\n",
       "</div>"
      ],
      "text/plain": [
       "   education      marital-status         occupation   relationship   race  \\\n",
       "0  Bachelors       Never-married       Adm-clerical  Not-in-family  White   \n",
       "1  Bachelors  Married-civ-spouse    Exec-managerial        Husband  White   \n",
       "2    HS-grad            Divorced  Handlers-cleaners  Not-in-family  White   \n",
       "3       11th  Married-civ-spouse  Handlers-cleaners        Husband  Black   \n",
       "4  Bachelors  Married-civ-spouse     Prof-specialty           Wife  Black   \n",
       "\n",
       "      sex native-country  workclass_?  workclass_Federal-gov  \\\n",
       "0    Male  United-States            0                      0   \n",
       "1    Male  United-States            0                      0   \n",
       "2    Male  United-States            0                      0   \n",
       "3    Male  United-States            0                      0   \n",
       "4  Female           Cuba            0                      0   \n",
       "\n",
       "   workclass_Local-gov  workclass_Never-worked  workclass_Private  \\\n",
       "0                    0                       0                  0   \n",
       "1                    0                       0                  0   \n",
       "2                    0                       0                  1   \n",
       "3                    0                       0                  1   \n",
       "4                    0                       0                  1   \n",
       "\n",
       "   workclass_Self-emp-inc  workclass_Self-emp-not-inc  workclass_State-gov  \\\n",
       "0                       0                           0                    1   \n",
       "1                       0                           1                    0   \n",
       "2                       0                           0                    0   \n",
       "3                       0                           0                    0   \n",
       "4                       0                           0                    0   \n",
       "\n",
       "   workclass_Without-pay  \n",
       "0                      0  \n",
       "1                      0  \n",
       "2                      0  \n",
       "3                      0  \n",
       "4                      0  "
      ]
     },
     "execution_count": 24,
     "metadata": {},
     "output_type": "execute_result"
    }
   ],
   "source": [
    "pd.get_dummies(categorical_X, columns=[\"workclass\"]).head()"
   ]
  },
  {
   "metadata": {},
   "cell_type": "markdown",
   "source": [
    "## Normalisation\n",
    "This help scale data down, can help better train the model when there are extreme differences in values"
   ],
   "id": "a4120ba30b699952"
  },
  {
   "metadata": {
    "ExecuteTime": {
     "end_time": "2025-02-03T21:18:32.526247Z",
     "start_time": "2025-02-03T21:18:32.522189Z"
    }
   },
   "cell_type": "code",
   "source": [
    "import numpy as np\n",
    "import pandas as pd\n",
    "\n",
    "data = np.array([[9999999, 2, 0, 9], [35,8, 4, 7], [27,23,1,99]])\n",
    "data_raw = pd.DataFrame({\"Column1\": data[:, 0],  \"Column2\": data[:, 1], \"Column3\": data[:, 2], \"Column4\": data[:, 3]})"
   ],
   "id": "dd5a4a209f5b38c0",
   "outputs": [],
   "execution_count": 4
  },
  {
   "metadata": {
    "ExecuteTime": {
     "end_time": "2025-02-03T21:18:34.014066Z",
     "start_time": "2025-02-03T21:18:34.006431Z"
    }
   },
   "cell_type": "code",
   "source": [
    "from sklearn import preprocessing\n",
    "\n",
    "# normalize the data attributes\n",
    "normalized_data = preprocessing.normalize(data)\n",
    "dataset = pd.DataFrame({\"Column1\": normalized_data[:, 0], \"Column2\": normalized_data[:, 1], \"Column3\": normalized_data[:, 2], \"Column4\": normalized_data[:, 3]})\n",
    "print(dataset)"
   ],
   "id": "3ce706531ac98f9b",
   "outputs": [
    {
     "name": "stdout",
     "output_type": "stream",
     "text": [
      "    Column1       Column2   Column3       Column4\n",
      "0  1.000000  2.000000e-07  0.000000  9.000001e-07\n",
      "1  0.951171  2.174106e-01  0.108705  1.902342e-01\n",
      "2  0.256736  2.187008e-01  0.009509  9.413641e-01\n"
     ]
    }
   ],
   "execution_count": 5
  },
  {
   "metadata": {},
   "cell_type": "markdown",
   "source": [
    "## Standardisation\n",
    "Helpful when you want your data to have a mean of 0 and a std of 1. Helpful format for some models/transformations"
   ],
   "id": "dc8ce41e5c4789b7"
  },
  {
   "metadata": {
    "ExecuteTime": {
     "end_time": "2025-02-03T21:20:59.883714Z",
     "start_time": "2025-02-03T21:20:59.877908Z"
    }
   },
   "cell_type": "code",
   "source": [
    "from sklearn.preprocessing import StandardScaler\n",
    "standardized_data = StandardScaler().fit_transform(data_raw)\n",
    "dataset = pd.DataFrame(standardized_data, columns=[\"Column1\", \"Column2\", \"Column3\", \"Column4\"])\n",
    "# dataset = pd.DataFrame({\"Column1\": standardized_data[:, 0], \"Column2\" : standardized_data[:, 1], \"Column3\" : standardized_data[:, 2], \"Column4\" : standardized_data[:, 3]})\n",
    "print(dataset)"
   ],
   "id": "b3e91260777c5564",
   "outputs": [
    {
     "name": "stdout",
     "output_type": "stream",
     "text": [
      "    Column1   Column2   Column3   Column4\n",
      "0  1.414214 -1.019049 -0.980581 -0.683672\n",
      "1 -0.707106 -0.339683  1.372813 -0.730286\n",
      "2 -0.707108  1.358732 -0.392232  1.413957\n"
     ]
    }
   ],
   "execution_count": 6
  },
  {
   "metadata": {},
   "cell_type": "markdown",
   "source": [
    "## Categorical Binning\n",
    "\n",
    "This is helpful to group information together and gain better insight on data. This could be helpful when needing to reduce features or during feature abstraction\n"
   ],
   "id": "634f9567d4fbda38"
  },
  {
   "metadata": {
    "ExecuteTime": {
     "end_time": "2025-02-03T21:22:10.707905Z",
     "start_time": "2025-02-03T21:22:10.702571Z"
    }
   },
   "cell_type": "code",
   "source": [
    "countries = pd.Series([\n",
    "    'United States',\n",
    "    'Canada',\n",
    "    'Spain',\n",
    "    'Italy',\n",
    "    'Chile',\n",
    "    'Brazil',\n",
    "    'North Korea',\n",
    "    'Vietnam',\n",
    "    'Thailand',\n",
    "    'Malaysia',\n",
    "    'Mayanmar',\n",
    "    'Iceland',\n",
    "    'Germany',\n",
    "    'Cuba',\n",
    "    'Mexico'\n",
    "], name = \"Countries\")\n",
    "groups = {\n",
    "    'North America' : ('United States', 'Canada', 'Iceland', 'Greenland', 'Mexico'),\n",
    "    'Europe' : ('France', 'Germany', 'United Kingdom', 'Belgium', 'Spain', 'Italy', 'Poland'),\n",
    "    'South America': ('Chile', 'Brazil', 'Peru', 'Columbia', 'Ecuador'),\n",
    "    'Asia': ('North Korea', 'Vietnam', 'Thailand', 'Malaysia', 'Mayanmar'),\n",
    "}"
   ],
   "id": "5a817318e015c1b4",
   "outputs": [],
   "execution_count": 7
  },
  {
   "metadata": {
    "ExecuteTime": {
     "end_time": "2025-02-03T21:22:22.572011Z",
     "start_time": "2025-02-03T21:22:22.558224Z"
    }
   },
   "cell_type": "code",
   "source": [
    "from typing import Any\n",
    "\n",
    "def country_group_map(series: pd.Series, groups: dict, othervalue:Any=-1) -> pd.Series:\n",
    "    # Assign the dictionary pairs\n",
    "    groups = {z: j for j,r in groups.items() for z in r}\n",
    "    return series.map(groups).fillna(othervalue)\n",
    "\n",
    "grouped_countries = country_group_map(countries, groups, othervalue='other')\n",
    "\n",
    "# pd.concat combines series into dataframe\n",
    "df = pd.concat([countries.rename('Countries'), grouped_countries.rename('Grouped Countries')], axis=1)\n",
    "df.head()"
   ],
   "id": "6307291dfbd1e50a",
   "outputs": [
    {
     "data": {
      "text/plain": [
       "       Countries Grouped Countries\n",
       "0  United States     North America\n",
       "1         Canada     North America\n",
       "2          Spain            Europe\n",
       "3          Italy            Europe\n",
       "4          Chile     South America"
      ],
      "text/html": [
       "<div>\n",
       "<style scoped>\n",
       "    .dataframe tbody tr th:only-of-type {\n",
       "        vertical-align: middle;\n",
       "    }\n",
       "\n",
       "    .dataframe tbody tr th {\n",
       "        vertical-align: top;\n",
       "    }\n",
       "\n",
       "    .dataframe thead th {\n",
       "        text-align: right;\n",
       "    }\n",
       "</style>\n",
       "<table border=\"1\" class=\"dataframe\">\n",
       "  <thead>\n",
       "    <tr style=\"text-align: right;\">\n",
       "      <th></th>\n",
       "      <th>Countries</th>\n",
       "      <th>Grouped Countries</th>\n",
       "    </tr>\n",
       "  </thead>\n",
       "  <tbody>\n",
       "    <tr>\n",
       "      <th>0</th>\n",
       "      <td>United States</td>\n",
       "      <td>North America</td>\n",
       "    </tr>\n",
       "    <tr>\n",
       "      <th>1</th>\n",
       "      <td>Canada</td>\n",
       "      <td>North America</td>\n",
       "    </tr>\n",
       "    <tr>\n",
       "      <th>2</th>\n",
       "      <td>Spain</td>\n",
       "      <td>Europe</td>\n",
       "    </tr>\n",
       "    <tr>\n",
       "      <th>3</th>\n",
       "      <td>Italy</td>\n",
       "      <td>Europe</td>\n",
       "    </tr>\n",
       "    <tr>\n",
       "      <th>4</th>\n",
       "      <td>Chile</td>\n",
       "      <td>South America</td>\n",
       "    </tr>\n",
       "  </tbody>\n",
       "</table>\n",
       "</div>"
      ]
     },
     "execution_count": 8,
     "metadata": {},
     "output_type": "execute_result"
    }
   ],
   "execution_count": 8
  },
  {
   "metadata": {
    "ExecuteTime": {
     "end_time": "2025-02-03T21:22:42.153652Z",
     "start_time": "2025-02-03T21:22:41.894794Z"
    }
   },
   "cell_type": "code",
   "source": [
    "data = df.groupby('Grouped Countries').count() # y\n",
    "data.plot.bar(stacked=True)"
   ],
   "id": "c6b63eefcb65046d",
   "outputs": [
    {
     "data": {
      "text/plain": [
       "<Axes: xlabel='Grouped Countries'>"
      ]
     },
     "execution_count": 9,
     "metadata": {},
     "output_type": "execute_result"
    },
    {
     "data": {
      "text/plain": [
       "<Figure size 640x480 with 1 Axes>"
      ],
      "image/png": "[encoded data removed]"
     },
     "metadata": {},
     "output_type": "display_data"
    }
   ],
   "execution_count": 9
  },
  {
   "metadata": {},
   "cell_type": "markdown",
   "source": [
    "## Nummerical Binning\n",
    "Helpful when you have continuous data that you want to group to get better insights into."
   ],
   "id": "ea5cb772ca04e458"
  },
  {
   "metadata": {
    "ExecuteTime": {
     "end_time": "2025-02-04T09:47:32.902227Z",
     "start_time": "2025-02-04T09:47:31.294932Z"
    }
   },
   "cell_type": "code",
   "source": [
    "url = \"https://github.com/saadharoon27/US-Sales-Data-Analysis-On-Excel/blob/main/Raw%20Data.csv?raw=true\" # put raw=true to get the raw file link\n",
    "\n",
    "sales_df = pd.read_csv(url, index_col=0)\n",
    "sales_df.head()"
   ],
   "id": "62edf74acc6e99d0",
   "outputs": [
    {
     "data": {
      "text/plain": [
       "            Customer Name         State         Category Sub-Category  \\\n",
       "Order Date                                                              \n",
       "03-01-2014  Darren Powers         Texas  Office Supplies        Paper   \n",
       "04-01-2014  Phillina Ober      Illinois  Office Supplies       Labels   \n",
       "04-01-2014  Phillina Ober      Illinois  Office Supplies      Storage   \n",
       "04-01-2014  Phillina Ober      Illinois  Office Supplies      Binders   \n",
       "05-01-2014     Mick Brown  Pennsylvania  Office Supplies          Art   \n",
       "\n",
       "                                                 Product Name   Sales  \\\n",
       "Order Date                                                              \n",
       "03-01-2014  Message Book, Wirebound, Four 5 1/2\" X 4\" Form...   16.45   \n",
       "04-01-2014                                          Avery 508   11.78   \n",
       "04-01-2014                      SAFCO Boltless Steel Shelving  272.74   \n",
       "04-01-2014         GBC Standard Plastic Binding Systems Combs    3.54   \n",
       "05-01-2014  Avery Hi-Liter EverBold Pen Style Fluorescent ...   19.54   \n",
       "\n",
       "            Quantity  Profit  \n",
       "Order Date                    \n",
       "03-01-2014         2    5.55  \n",
       "04-01-2014         3    4.27  \n",
       "04-01-2014         3  -64.77  \n",
       "04-01-2014         2   -5.49  \n",
       "05-01-2014         3    4.88  "
      ],
      "text/html": [
       "<div>\n",
       "<style scoped>\n",
       "    .dataframe tbody tr th:only-of-type {\n",
       "        vertical-align: middle;\n",
       "    }\n",
       "\n",
       "    .dataframe tbody tr th {\n",
       "        vertical-align: top;\n",
       "    }\n",
       "\n",
       "    .dataframe thead th {\n",
       "        text-align: right;\n",
       "    }\n",
       "</style>\n",
       "<table border=\"1\" class=\"dataframe\">\n",
       "  <thead>\n",
       "    <tr style=\"text-align: right;\">\n",
       "      <th></th>\n",
       "      <th>Customer Name</th>\n",
       "      <th>State</th>\n",
       "      <th>Category</th>\n",
       "      <th>Sub-Category</th>\n",
       "      <th>Product Name</th>\n",
       "      <th>Sales</th>\n",
       "      <th>Quantity</th>\n",
       "      <th>Profit</th>\n",
       "    </tr>\n",
       "    <tr>\n",
       "      <th>Order Date</th>\n",
       "      <th></th>\n",
       "      <th></th>\n",
       "      <th></th>\n",
       "      <th></th>\n",
       "      <th></th>\n",
       "      <th></th>\n",
       "      <th></th>\n",
       "      <th></th>\n",
       "    </tr>\n",
       "  </thead>\n",
       "  <tbody>\n",
       "    <tr>\n",
       "      <th>03-01-2014</th>\n",
       "      <td>Darren Powers</td>\n",
       "      <td>Texas</td>\n",
       "      <td>Office Supplies</td>\n",
       "      <td>Paper</td>\n",
       "      <td>Message Book, Wirebound, Four 5 1/2\" X 4\" Form...</td>\n",
       "      <td>16.45</td>\n",
       "      <td>2</td>\n",
       "      <td>5.55</td>\n",
       "    </tr>\n",
       "    <tr>\n",
       "      <th>04-01-2014</th>\n",
       "      <td>Phillina Ober</td>\n",
       "      <td>Illinois</td>\n",
       "      <td>Office Supplies</td>\n",
       "      <td>Labels</td>\n",
       "      <td>Avery 508</td>\n",
       "      <td>11.78</td>\n",
       "      <td>3</td>\n",
       "      <td>4.27</td>\n",
       "    </tr>\n",
       "    <tr>\n",
       "      <th>04-01-2014</th>\n",
       "      <td>Phillina Ober</td>\n",
       "      <td>Illinois</td>\n",
       "      <td>Office Supplies</td>\n",
       "      <td>Storage</td>\n",
       "      <td>SAFCO Boltless Steel Shelving</td>\n",
       "      <td>272.74</td>\n",
       "      <td>3</td>\n",
       "      <td>-64.77</td>\n",
       "    </tr>\n",
       "    <tr>\n",
       "      <th>04-01-2014</th>\n",
       "      <td>Phillina Ober</td>\n",
       "      <td>Illinois</td>\n",
       "      <td>Office Supplies</td>\n",
       "      <td>Binders</td>\n",
       "      <td>GBC Standard Plastic Binding Systems Combs</td>\n",
       "      <td>3.54</td>\n",
       "      <td>2</td>\n",
       "      <td>-5.49</td>\n",
       "    </tr>\n",
       "    <tr>\n",
       "      <th>05-01-2014</th>\n",
       "      <td>Mick Brown</td>\n",
       "      <td>Pennsylvania</td>\n",
       "      <td>Office Supplies</td>\n",
       "      <td>Art</td>\n",
       "      <td>Avery Hi-Liter EverBold Pen Style Fluorescent ...</td>\n",
       "      <td>19.54</td>\n",
       "      <td>3</td>\n",
       "      <td>4.88</td>\n",
       "    </tr>\n",
       "  </tbody>\n",
       "</table>\n",
       "</div>"
      ]
     },
     "execution_count": 24,
     "metadata": {},
     "output_type": "execute_result"
    }
   ],
   "execution_count": 24
  },
  {
   "metadata": {
    "ExecuteTime": {
     "end_time": "2025-02-04T09:47:36.983074Z",
     "start_time": "2025-02-04T09:47:36.974165Z"
    }
   },
   "cell_type": "code",
   "source": [
    "sales_df['Actual Product Price'] = sales_df['Sales'] - sales_df['Profit'] / sales_df['Quantity'] \n",
    "sales_df.head()"
   ],
   "id": "d7ced28c2315e276",
   "outputs": [
    {
     "data": {
      "text/plain": [
       "            Customer Name         State         Category Sub-Category  \\\n",
       "Order Date                                                              \n",
       "03-01-2014  Darren Powers         Texas  Office Supplies        Paper   \n",
       "04-01-2014  Phillina Ober      Illinois  Office Supplies       Labels   \n",
       "04-01-2014  Phillina Ober      Illinois  Office Supplies      Storage   \n",
       "04-01-2014  Phillina Ober      Illinois  Office Supplies      Binders   \n",
       "05-01-2014     Mick Brown  Pennsylvania  Office Supplies          Art   \n",
       "\n",
       "                                                 Product Name   Sales  \\\n",
       "Order Date                                                              \n",
       "03-01-2014  Message Book, Wirebound, Four 5 1/2\" X 4\" Form...   16.45   \n",
       "04-01-2014                                          Avery 508   11.78   \n",
       "04-01-2014                      SAFCO Boltless Steel Shelving  272.74   \n",
       "04-01-2014         GBC Standard Plastic Binding Systems Combs    3.54   \n",
       "05-01-2014  Avery Hi-Liter EverBold Pen Style Fluorescent ...   19.54   \n",
       "\n",
       "            Quantity  Profit  Actual Product Price  \n",
       "Order Date                                          \n",
       "03-01-2014         2    5.55             13.675000  \n",
       "04-01-2014         3    4.27             10.356667  \n",
       "04-01-2014         3  -64.77            294.330000  \n",
       "04-01-2014         2   -5.49              6.285000  \n",
       "05-01-2014         3    4.88             17.913333  "
      ],
      "text/html": [
       "<div>\n",
       "<style scoped>\n",
       "    .dataframe tbody tr th:only-of-type {\n",
       "        vertical-align: middle;\n",
       "    }\n",
       "\n",
       "    .dataframe tbody tr th {\n",
       "        vertical-align: top;\n",
       "    }\n",
       "\n",
       "    .dataframe thead th {\n",
       "        text-align: right;\n",
       "    }\n",
       "</style>\n",
       "<table border=\"1\" class=\"dataframe\">\n",
       "  <thead>\n",
       "    <tr style=\"text-align: right;\">\n",
       "      <th></th>\n",
       "      <th>Customer Name</th>\n",
       "      <th>State</th>\n",
       "      <th>Category</th>\n",
       "      <th>Sub-Category</th>\n",
       "      <th>Product Name</th>\n",
       "      <th>Sales</th>\n",
       "      <th>Quantity</th>\n",
       "      <th>Profit</th>\n",
       "      <th>Actual Product Price</th>\n",
       "    </tr>\n",
       "    <tr>\n",
       "      <th>Order Date</th>\n",
       "      <th></th>\n",
       "      <th></th>\n",
       "      <th></th>\n",
       "      <th></th>\n",
       "      <th></th>\n",
       "      <th></th>\n",
       "      <th></th>\n",
       "      <th></th>\n",
       "      <th></th>\n",
       "    </tr>\n",
       "  </thead>\n",
       "  <tbody>\n",
       "    <tr>\n",
       "      <th>03-01-2014</th>\n",
       "      <td>Darren Powers</td>\n",
       "      <td>Texas</td>\n",
       "      <td>Office Supplies</td>\n",
       "      <td>Paper</td>\n",
       "      <td>Message Book, Wirebound, Four 5 1/2\" X 4\" Form...</td>\n",
       "      <td>16.45</td>\n",
       "      <td>2</td>\n",
       "      <td>5.55</td>\n",
       "      <td>13.675000</td>\n",
       "    </tr>\n",
       "    <tr>\n",
       "      <th>04-01-2014</th>\n",
       "      <td>Phillina Ober</td>\n",
       "      <td>Illinois</td>\n",
       "      <td>Office Supplies</td>\n",
       "      <td>Labels</td>\n",
       "      <td>Avery 508</td>\n",
       "      <td>11.78</td>\n",
       "      <td>3</td>\n",
       "      <td>4.27</td>\n",
       "      <td>10.356667</td>\n",
       "    </tr>\n",
       "    <tr>\n",
       "      <th>04-01-2014</th>\n",
       "      <td>Phillina Ober</td>\n",
       "      <td>Illinois</td>\n",
       "      <td>Office Supplies</td>\n",
       "      <td>Storage</td>\n",
       "      <td>SAFCO Boltless Steel Shelving</td>\n",
       "      <td>272.74</td>\n",
       "      <td>3</td>\n",
       "      <td>-64.77</td>\n",
       "      <td>294.330000</td>\n",
       "    </tr>\n",
       "    <tr>\n",
       "      <th>04-01-2014</th>\n",
       "      <td>Phillina Ober</td>\n",
       "      <td>Illinois</td>\n",
       "      <td>Office Supplies</td>\n",
       "      <td>Binders</td>\n",
       "      <td>GBC Standard Plastic Binding Systems Combs</td>\n",
       "      <td>3.54</td>\n",
       "      <td>2</td>\n",
       "      <td>-5.49</td>\n",
       "      <td>6.285000</td>\n",
       "    </tr>\n",
       "    <tr>\n",
       "      <th>05-01-2014</th>\n",
       "      <td>Mick Brown</td>\n",
       "      <td>Pennsylvania</td>\n",
       "      <td>Office Supplies</td>\n",
       "      <td>Art</td>\n",
       "      <td>Avery Hi-Liter EverBold Pen Style Fluorescent ...</td>\n",
       "      <td>19.54</td>\n",
       "      <td>3</td>\n",
       "      <td>4.88</td>\n",
       "      <td>17.913333</td>\n",
       "    </tr>\n",
       "  </tbody>\n",
       "</table>\n",
       "</div>"
      ]
     },
     "execution_count": 25,
     "metadata": {},
     "output_type": "execute_result"
    }
   ],
   "execution_count": 25
  },
  {
   "metadata": {
    "ExecuteTime": {
     "end_time": "2025-02-04T10:18:51.703361Z",
     "start_time": "2025-02-04T10:18:51.694580Z"
    }
   },
   "cell_type": "code",
   "source": [
    "sales_df['Product Name'].value_counts()\n",
    "sales_df['Sales'].describe()"
   ],
   "id": "8947d08725415d0e",
   "outputs": [
    {
     "data": {
      "text/plain": [
       "count     9994.000000\n",
       "mean       229.858022\n",
       "std        623.245131\n",
       "min          0.440000\n",
       "25%         17.280000\n",
       "50%         54.490000\n",
       "75%        209.940000\n",
       "max      22638.480000\n",
       "Name: Sales, dtype: float64"
      ]
     },
     "execution_count": 43,
     "metadata": {},
     "output_type": "execute_result"
    }
   ],
   "execution_count": 43
  },
  {
   "metadata": {
    "ExecuteTime": {
     "end_time": "2025-02-04T10:33:22.614664Z",
     "start_time": "2025-02-04T10:33:22.610690Z"
    }
   },
   "cell_type": "code",
   "source": [
    "# normalise sales values to better visualise histogram\n",
    "from sklearn.preprocessing import minmax_scale\n",
    "\n",
    "df_sales = minmax_scale(df['Sales'])\n",
    "df['Sales'] = pd.Series(df_sales)"
   ],
   "id": "904745e0febbc853",
   "outputs": [],
   "execution_count": 54
  },
  {
   "metadata": {
    "ExecuteTime": {
     "end_time": "2025-02-04T10:33:25.327245Z",
     "start_time": "2025-02-04T10:33:25.260215Z"
    }
   },
   "cell_type": "code",
   "source": [
    "import seaborn as sns\n",
    "\n",
    "sns.set_style(\"whitegrid\")\n",
    "df = sales_df.groupby(['Customer Name', 'Product Name'])['Sales'].sum().reset_index()\n",
    "df['Sales'].plot(kind='hist')"
   ],
   "id": "73608db0a2834641",
   "outputs": [
    {
     "data": {
      "text/plain": [
       "<Axes: ylabel='Frequency'>"
      ]
     },
     "execution_count": 55,
     "metadata": {},
     "output_type": "execute_result"
    },
    {
     "data": {
      "text/plain": [
       "<Figure size 640x480 with 1 Axes>"
      ],
      "image/png": "[encoded data removed]"
     },
     "metadata": {},
     "output_type": "display_data"
    }
   ],
   "execution_count": 55
  },
  {
   "metadata": {},
   "cell_type": "markdown",
   "source": [
    "## Quantile binning example\n",
    "\n",
    "Unequal sized bins, but distribute data evenly across bins"
   ],
   "id": "255726004dd510d3"
  },
  {
   "metadata": {
    "ExecuteTime": {
     "end_time": "2025-02-04T10:47:35.605838Z",
     "start_time": "2025-02-04T10:47:35.591514Z"
    }
   },
   "cell_type": "code",
   "source": [
    "print('Quantile base discretization function that divides up the data into ')\n",
    "sales_df['quartile_price_quartiles'] = pd.qcut(sales_df['Sales'], q=4)\n",
    "sales_df['quartile_price_deciles'] = pd.qcut(sales_df['Sales'], q=10, precision=0)\n",
    "bin_labels_5 = ['Rookie', 'Sophomore', 'Junior', 'Senior', 'Professional']\n",
    "sales_df['quantile_price_quintiles'] = pd.qcut(sales_df['Sales'], q=[0, .2, .4, .6, .8, 1], labels=bin_labels_5) \n",
    "sales_df.head()"
   ],
   "id": "84581c35ae0d4ca9",
   "outputs": [
    {
     "data": {
      "text/plain": [
       "            Customer Name         State         Category Sub-Category  \\\n",
       "Order Date                                                              \n",
       "03-01-2014  Darren Powers         Texas  Office Supplies        Paper   \n",
       "04-01-2014  Phillina Ober      Illinois  Office Supplies       Labels   \n",
       "04-01-2014  Phillina Ober      Illinois  Office Supplies      Storage   \n",
       "04-01-2014  Phillina Ober      Illinois  Office Supplies      Binders   \n",
       "05-01-2014     Mick Brown  Pennsylvania  Office Supplies          Art   \n",
       "\n",
       "                                                                        Product Name  \\\n",
       "Order Date                                                                             \n",
       "03-01-2014  Message Book, Wirebound, Four 5 1/2\" X 4\" Forms/Pg., 200 Dupl. Sets/Book   \n",
       "04-01-2014                                                                 Avery 508   \n",
       "04-01-2014                                             SAFCO Boltless Steel Shelving   \n",
       "04-01-2014                                GBC Standard Plastic Binding Systems Combs   \n",
       "05-01-2014        Avery Hi-Liter EverBold Pen Style Fluorescent Highlighters, 4/Pack   \n",
       "\n",
       "             Sales  Quantity  Profit  Actual Product Price  \\\n",
       "Order Date                                                   \n",
       "03-01-2014   16.45         2    5.55             13.675000   \n",
       "04-01-2014   11.78         3    4.27             10.356667   \n",
       "04-01-2014  272.74         3  -64.77            294.330000   \n",
       "04-01-2014    3.54         2   -5.49              6.285000   \n",
       "05-01-2014   19.54         3    4.88             17.913333   \n",
       "\n",
       "           quartile_price_quartiles quartile_price_deciles  \\\n",
       "Order Date                                                   \n",
       "03-01-2014           (0.439, 17.28]           (14.0, 21.0]   \n",
       "04-01-2014           (0.439, 17.28]            (8.0, 14.0]   \n",
       "04-01-2014       (209.94, 22638.48]         (158.0, 281.0]   \n",
       "04-01-2014           (0.439, 17.28]            (-1.0, 8.0]   \n",
       "05-01-2014           (17.28, 54.49]           (14.0, 21.0]   \n",
       "\n",
       "           quantile_price_quintiles  \n",
       "Order Date                           \n",
       "03-01-2014                Sophomore  \n",
       "04-01-2014                   Rookie  \n",
       "04-01-2014                   Senior  \n",
       "04-01-2014                   Rookie  \n",
       "05-01-2014                Sophomore  "
      ],
      "text/html": [
       "<div>\n",
       "<style scoped>\n",
       "    .dataframe tbody tr th:only-of-type {\n",
       "        vertical-align: middle;\n",
       "    }\n",
       "\n",
       "    .dataframe tbody tr th {\n",
       "        vertical-align: top;\n",
       "    }\n",
       "\n",
       "    .dataframe thead th {\n",
       "        text-align: right;\n",
       "    }\n",
       "</style>\n",
       "<table border=\"1\" class=\"dataframe\">\n",
       "  <thead>\n",
       "    <tr style=\"text-align: right;\">\n",
       "      <th></th>\n",
       "      <th>Customer Name</th>\n",
       "      <th>State</th>\n",
       "      <th>Category</th>\n",
       "      <th>Sub-Category</th>\n",
       "      <th>Product Name</th>\n",
       "      <th>Sales</th>\n",
       "      <th>Quantity</th>\n",
       "      <th>Profit</th>\n",
       "      <th>Actual Product Price</th>\n",
       "      <th>quartile_price_quartiles</th>\n",
       "      <th>quartile_price_deciles</th>\n",
       "      <th>quantile_price_quintiles</th>\n",
       "    </tr>\n",
       "    <tr>\n",
       "      <th>Order Date</th>\n",
       "      <th></th>\n",
       "      <th></th>\n",
       "      <th></th>\n",
       "      <th></th>\n",
       "      <th></th>\n",
       "      <th></th>\n",
       "      <th></th>\n",
       "      <th></th>\n",
       "      <th></th>\n",
       "      <th></th>\n",
       "      <th></th>\n",
       "      <th></th>\n",
       "    </tr>\n",
       "  </thead>\n",
       "  <tbody>\n",
       "    <tr>\n",
       "      <th>03-01-2014</th>\n",
       "      <td>Darren Powers</td>\n",
       "      <td>Texas</td>\n",
       "      <td>Office Supplies</td>\n",
       "      <td>Paper</td>\n",
       "      <td>Message Book, Wirebound, Four 5 1/2\" X 4\" Forms/Pg., 200 Dupl. Sets/Book</td>\n",
       "      <td>16.45</td>\n",
       "      <td>2</td>\n",
       "      <td>5.55</td>\n",
       "      <td>13.675000</td>\n",
       "      <td>(0.439, 17.28]</td>\n",
       "      <td>(14.0, 21.0]</td>\n",
       "      <td>Sophomore</td>\n",
       "    </tr>\n",
       "    <tr>\n",
       "      <th>04-01-2014</th>\n",
       "      <td>Phillina Ober</td>\n",
       "      <td>Illinois</td>\n",
       "      <td>Office Supplies</td>\n",
       "      <td>Labels</td>\n",
       "      <td>Avery 508</td>\n",
       "      <td>11.78</td>\n",
       "      <td>3</td>\n",
       "      <td>4.27</td>\n",
       "      <td>10.356667</td>\n",
       "      <td>(0.439, 17.28]</td>\n",
       "      <td>(8.0, 14.0]</td>\n",
       "      <td>Rookie</td>\n",
       "    </tr>\n",
       "    <tr>\n",
       "      <th>04-01-2014</th>\n",
       "      <td>Phillina Ober</td>\n",
       "      <td>Illinois</td>\n",
       "      <td>Office Supplies</td>\n",
       "      <td>Storage</td>\n",
       "      <td>SAFCO Boltless Steel Shelving</td>\n",
       "      <td>272.74</td>\n",
       "      <td>3</td>\n",
       "      <td>-64.77</td>\n",
       "      <td>294.330000</td>\n",
       "      <td>(209.94, 22638.48]</td>\n",
       "      <td>(158.0, 281.0]</td>\n",
       "      <td>Senior</td>\n",
       "    </tr>\n",
       "    <tr>\n",
       "      <th>04-01-2014</th>\n",
       "      <td>Phillina Ober</td>\n",
       "      <td>Illinois</td>\n",
       "      <td>Office Supplies</td>\n",
       "      <td>Binders</td>\n",
       "      <td>GBC Standard Plastic Binding Systems Combs</td>\n",
       "      <td>3.54</td>\n",
       "      <td>2</td>\n",
       "      <td>-5.49</td>\n",
       "      <td>6.285000</td>\n",
       "      <td>(0.439, 17.28]</td>\n",
       "      <td>(-1.0, 8.0]</td>\n",
       "      <td>Rookie</td>\n",
       "    </tr>\n",
       "    <tr>\n",
       "      <th>05-01-2014</th>\n",
       "      <td>Mick Brown</td>\n",
       "      <td>Pennsylvania</td>\n",
       "      <td>Office Supplies</td>\n",
       "      <td>Art</td>\n",
       "      <td>Avery Hi-Liter EverBold Pen Style Fluorescent Highlighters, 4/Pack</td>\n",
       "      <td>19.54</td>\n",
       "      <td>3</td>\n",
       "      <td>4.88</td>\n",
       "      <td>17.913333</td>\n",
       "      <td>(17.28, 54.49]</td>\n",
       "      <td>(14.0, 21.0]</td>\n",
       "      <td>Sophomore</td>\n",
       "    </tr>\n",
       "  </tbody>\n",
       "</table>\n",
       "</div>"
      ]
     },
     "execution_count": 60,
     "metadata": {},
     "output_type": "execute_result"
    }
   ],
   "execution_count": 60
  },
  {
   "metadata": {
    "ExecuteTime": {
     "end_time": "2025-02-04T10:48:58.308637Z",
     "start_time": "2025-02-04T10:48:58.301619Z"
    }
   },
   "cell_type": "code",
   "source": [
    "print(\"\\nWhat ranges identify bins?: \")\n",
    "results, bin_edges = pd.qcut(sales_df['Sales'], q=[0, .2, .4, .6, .8, 1], labels=bin_labels_5, retbins=True)\n",
    "\n",
    "results_table = pd.DataFrame(zip(bin_edges, bin_labels_5), columns=['Threshold', 'Tier'])\n",
    "\n",
    "print(results_table)"
   ],
   "id": "15c255d41d54f78d",
   "outputs": [
    {
     "name": "stdout",
     "output_type": "stream",
     "text": [
      "\n",
      "What ranges identify bins?: \n",
      "   Threshold          Tier\n",
      "0       0.44        Rookie\n",
      "1      13.78     Sophomore\n",
      "2      34.25        Junior\n",
      "3      89.81        Senior\n",
      "4     281.37  Professional\n"
     ]
    }
   ],
   "execution_count": 61
  },
  {
   "metadata": {
    "ExecuteTime": {
     "end_time": "2025-02-04T10:50:19.164041Z",
     "start_time": "2025-02-04T10:50:19.159439Z"
    }
   },
   "cell_type": "code",
   "source": [
    "print('\\ncheck bin distributions: ')\n",
    "print(sales_df['quantile_price_quintiles'].value_counts())"
   ],
   "id": "615be05e442a2fe0",
   "outputs": [
    {
     "name": "stdout",
     "output_type": "stream",
     "text": [
      "\n",
      "check bin distributions: \n",
      "quantile_price_quintiles\n",
      "Rookie          2000\n",
      "Senior          2000\n",
      "Sophomore       1999\n",
      "Professional    1998\n",
      "Junior          1997\n",
      "Name: count, dtype: int64\n"
     ]
    }
   ],
   "execution_count": 62
  },
  {
   "metadata": {},
   "cell_type": "markdown",
   "source": [
    "## Cut binning\n",
    "Equal size bin, doesn't distribute data evenly across bins"
   ],
   "id": "a0e9500e64eb65be"
  },
  {
   "metadata": {
    "ExecuteTime": {
     "end_time": "2025-02-04T10:39:44.249104Z",
     "start_time": "2025-02-04T10:39:44.242799Z"
    }
   },
   "cell_type": "code",
   "source": "sales_df['Sales'].describe()",
   "id": "7854d686e96bde0a",
   "outputs": [
    {
     "data": {
      "text/plain": [
       "count     9994.000000\n",
       "mean       229.858022\n",
       "std        623.245131\n",
       "min          0.440000\n",
       "25%         17.280000\n",
       "50%         54.490000\n",
       "75%        209.940000\n",
       "max      22638.480000\n",
       "Name: Sales, dtype: float64"
      ]
     },
     "execution_count": 59,
     "metadata": {},
     "output_type": "execute_result"
    }
   ],
   "execution_count": 59
  },
  {
   "metadata": {
    "ExecuteTime": {
     "end_time": "2025-02-04T10:39:21.331439Z",
     "start_time": "2025-02-04T10:39:21.325680Z"
    }
   },
   "cell_type": "code",
   "source": [
    "bins = pd.cut(sales_df['Sales'], bins=4)\n",
    "print(bins.value_counts())"
   ],
   "id": "e9ccfc6492dc9964",
   "outputs": [
    {
     "name": "stdout",
     "output_type": "stream",
     "text": [
      "Sales\n",
      "(-22.198, 5659.95]      9979\n",
      "(5659.95, 11319.46]       12\n",
      "(16978.97, 22638.48]       2\n",
      "(11319.46, 16978.97]       1\n",
      "Name: count, dtype: int64\n"
     ]
    }
   ],
   "execution_count": 58
  },
  {
   "metadata": {},
   "cell_type": "code",
   "outputs": [],
   "execution_count": null,
   "source": "",
   "id": "34649ff8822ba3be"
  }
 ],
 "metadata": {
  "kernelspec": {
   "display_name": "Python 3 (ipykernel)",
   "language": "python",
   "name": "python3"
  },
  "language_info": {
   "codemirror_mode": {
    "name": "ipython",
    "version": 3
   },
   "file_extension": ".py",
   "mimetype": "text/x-python",
   "name": "python",
   "nbconvert_exporter": "python",
   "pygments_lexer": "ipython3",
   "version": "3.10.16"
  }
 },
 "nbformat": 4,
 "nbformat_minor": 5
}
