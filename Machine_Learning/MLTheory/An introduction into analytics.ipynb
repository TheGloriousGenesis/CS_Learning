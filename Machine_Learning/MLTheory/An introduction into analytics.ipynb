{
 "cells": [
  {
   "cell_type": "markdown",
   "id": "29ac1b81",
   "metadata": {
    "pycharm": {
     "name": "#%% md\n"
    }
   },
   "source": [
    "# Use great expectations to read the quality of the data to test it out"
   ]
  },
  {
   "cell_type": "code",
   "execution_count": 1,
   "id": "6105277e-2cdd-4afa-b57c-b3b828a955c7",
   "metadata": {
    "tags": []
   },
   "outputs": [],
   "source": [
    "import pandas as pd\n",
    "import matplotlib.pyplot as plt"
   ]
  },
  {
   "cell_type": "code",
   "execution_count": 2,
   "id": "78b752d9-98ed-4f2e-97e7-39bf6222c087",
   "metadata": {
    "tags": []
   },
   "outputs": [],
   "source": [
    "def open_csv(filepath: str, **kwargs):\n",
    "    df = pd.read_csv(filepath, sep=\",\",header=0, **kwargs)\n",
    "    return df"
   ]
  },
  {
   "cell_type": "code",
   "execution_count": 3,
   "id": "d1377900-cfb6-41bd-8023-99c7833a3668",
   "metadata": {
    "tags": []
   },
   "outputs": [],
   "source": [
    "who_csv = open_csv(\"../.data/WHO.csv\")"
   ]
  },
  {
   "cell_type": "code",
   "execution_count": 61,
   "id": "44f4547f-a265-4b36-9a45-c2047eed6571",
   "metadata": {
    "tags": []
   },
   "outputs": [
    {
     "data": {
      "text/html": [
       "<div>\n",
       "<style scoped>\n",
       "    .dataframe tbody tr th:only-of-type {\n",
       "        vertical-align: middle;\n",
       "    }\n",
       "\n",
       "    .dataframe tbody tr th {\n",
       "        vertical-align: top;\n",
       "    }\n",
       "\n",
       "    .dataframe thead th {\n",
       "        text-align: right;\n",
       "    }\n",
       "</style>\n",
       "<table border=\"1\" class=\"dataframe\">\n",
       "  <thead>\n",
       "    <tr style=\"text-align: right;\">\n",
       "      <th></th>\n",
       "      <th>Population</th>\n",
       "      <th>Under15</th>\n",
       "      <th>Over60</th>\n",
       "      <th>FertilityRate</th>\n",
       "      <th>LifeExpectancy</th>\n",
       "      <th>ChildMortality</th>\n",
       "      <th>CellularSubscribers</th>\n",
       "      <th>LiteracyRate</th>\n",
       "      <th>GNI</th>\n",
       "      <th>PrimarySchoolEnrollmentMale</th>\n",
       "      <th>PrimarySchoolEnrollmentFemale</th>\n",
       "    </tr>\n",
       "  </thead>\n",
       "  <tbody>\n",
       "    <tr>\n",
       "      <th>count</th>\n",
       "      <td>1.940000e+02</td>\n",
       "      <td>194.000000</td>\n",
       "      <td>194.000000</td>\n",
       "      <td>183.000000</td>\n",
       "      <td>194.000000</td>\n",
       "      <td>194.000000</td>\n",
       "      <td>184.000000</td>\n",
       "      <td>103.000000</td>\n",
       "      <td>162.000000</td>\n",
       "      <td>101.000000</td>\n",
       "      <td>101.000000</td>\n",
       "    </tr>\n",
       "    <tr>\n",
       "      <th>mean</th>\n",
       "      <td>3.635997e+04</td>\n",
       "      <td>28.732423</td>\n",
       "      <td>11.163660</td>\n",
       "      <td>2.940656</td>\n",
       "      <td>70.010309</td>\n",
       "      <td>36.148969</td>\n",
       "      <td>93.641522</td>\n",
       "      <td>83.710680</td>\n",
       "      <td>13320.925926</td>\n",
       "      <td>90.850495</td>\n",
       "      <td>89.632673</td>\n",
       "    </tr>\n",
       "    <tr>\n",
       "      <th>std</th>\n",
       "      <td>1.379031e+05</td>\n",
       "      <td>10.534573</td>\n",
       "      <td>7.149331</td>\n",
       "      <td>1.480984</td>\n",
       "      <td>9.259075</td>\n",
       "      <td>37.992935</td>\n",
       "      <td>41.400447</td>\n",
       "      <td>17.530645</td>\n",
       "      <td>15192.988650</td>\n",
       "      <td>11.017147</td>\n",
       "      <td>12.817614</td>\n",
       "    </tr>\n",
       "    <tr>\n",
       "      <th>min</th>\n",
       "      <td>1.000000e+00</td>\n",
       "      <td>13.120000</td>\n",
       "      <td>0.810000</td>\n",
       "      <td>1.260000</td>\n",
       "      <td>47.000000</td>\n",
       "      <td>2.200000</td>\n",
       "      <td>2.570000</td>\n",
       "      <td>31.100000</td>\n",
       "      <td>340.000000</td>\n",
       "      <td>37.200000</td>\n",
       "      <td>32.500000</td>\n",
       "    </tr>\n",
       "    <tr>\n",
       "      <th>25%</th>\n",
       "      <td>1.695750e+03</td>\n",
       "      <td>18.717500</td>\n",
       "      <td>5.200000</td>\n",
       "      <td>1.835000</td>\n",
       "      <td>64.000000</td>\n",
       "      <td>8.425000</td>\n",
       "      <td>63.567500</td>\n",
       "      <td>71.600000</td>\n",
       "      <td>2335.000000</td>\n",
       "      <td>87.700000</td>\n",
       "      <td>87.300000</td>\n",
       "    </tr>\n",
       "    <tr>\n",
       "      <th>50%</th>\n",
       "      <td>7.790000e+03</td>\n",
       "      <td>28.650000</td>\n",
       "      <td>8.530000</td>\n",
       "      <td>2.400000</td>\n",
       "      <td>72.500000</td>\n",
       "      <td>18.600000</td>\n",
       "      <td>97.745000</td>\n",
       "      <td>91.800000</td>\n",
       "      <td>7870.000000</td>\n",
       "      <td>94.700000</td>\n",
       "      <td>95.100000</td>\n",
       "    </tr>\n",
       "    <tr>\n",
       "      <th>75%</th>\n",
       "      <td>2.453525e+04</td>\n",
       "      <td>37.752500</td>\n",
       "      <td>16.687500</td>\n",
       "      <td>3.905000</td>\n",
       "      <td>76.000000</td>\n",
       "      <td>55.975000</td>\n",
       "      <td>120.805000</td>\n",
       "      <td>97.850000</td>\n",
       "      <td>17557.500000</td>\n",
       "      <td>98.100000</td>\n",
       "      <td>97.900000</td>\n",
       "    </tr>\n",
       "    <tr>\n",
       "      <th>max</th>\n",
       "      <td>1.390000e+06</td>\n",
       "      <td>49.990000</td>\n",
       "      <td>31.920000</td>\n",
       "      <td>7.580000</td>\n",
       "      <td>83.000000</td>\n",
       "      <td>181.600000</td>\n",
       "      <td>196.410000</td>\n",
       "      <td>99.800000</td>\n",
       "      <td>86440.000000</td>\n",
       "      <td>100.000000</td>\n",
       "      <td>100.000000</td>\n",
       "    </tr>\n",
       "  </tbody>\n",
       "</table>\n",
       "</div>"
      ],
      "text/plain": [
       "         Population     Under15      Over60  FertilityRate  LifeExpectancy  \\\n",
       "count  1.940000e+02  194.000000  194.000000     183.000000      194.000000   \n",
       "mean   3.635997e+04   28.732423   11.163660       2.940656       70.010309   \n",
       "std    1.379031e+05   10.534573    7.149331       1.480984        9.259075   \n",
       "min    1.000000e+00   13.120000    0.810000       1.260000       47.000000   \n",
       "25%    1.695750e+03   18.717500    5.200000       1.835000       64.000000   \n",
       "50%    7.790000e+03   28.650000    8.530000       2.400000       72.500000   \n",
       "75%    2.453525e+04   37.752500   16.687500       3.905000       76.000000   \n",
       "max    1.390000e+06   49.990000   31.920000       7.580000       83.000000   \n",
       "\n",
       "       ChildMortality  CellularSubscribers  LiteracyRate           GNI  \\\n",
       "count      194.000000           184.000000    103.000000    162.000000   \n",
       "mean        36.148969            93.641522     83.710680  13320.925926   \n",
       "std         37.992935            41.400447     17.530645  15192.988650   \n",
       "min          2.200000             2.570000     31.100000    340.000000   \n",
       "25%          8.425000            63.567500     71.600000   2335.000000   \n",
       "50%         18.600000            97.745000     91.800000   7870.000000   \n",
       "75%         55.975000           120.805000     97.850000  17557.500000   \n",
       "max        181.600000           196.410000     99.800000  86440.000000   \n",
       "\n",
       "       PrimarySchoolEnrollmentMale  PrimarySchoolEnrollmentFemale  \n",
       "count                   101.000000                     101.000000  \n",
       "mean                     90.850495                      89.632673  \n",
       "std                      11.017147                      12.817614  \n",
       "min                      37.200000                      32.500000  \n",
       "25%                      87.700000                      87.300000  \n",
       "50%                      94.700000                      95.100000  \n",
       "75%                      98.100000                      97.900000  \n",
       "max                     100.000000                     100.000000  "
      ]
     },
     "execution_count": 61,
     "metadata": {},
     "output_type": "execute_result"
    }
   ],
   "source": [
    "who_csv.describe()"
   ]
  },
  {
   "cell_type": "code",
   "execution_count": 16,
   "id": "8641ed04-3d6a-4b5b-af48-b766e90a8e34",
   "metadata": {
    "tags": []
   },
   "outputs": [
    {
     "data": {
      "text/plain": [
       "count    194.000000\n",
       "mean      28.732423\n",
       "std       10.534573\n",
       "min       13.120000\n",
       "25%       18.717500\n",
       "50%       28.650000\n",
       "75%       37.752500\n",
       "max       49.990000\n",
       "Name: Under15, dtype: float64"
      ]
     },
     "execution_count": 16,
     "metadata": {},
     "output_type": "execute_result"
    }
   ],
   "source": [
    "who_csv.describe()[\"Under15\"]"
   ]
  },
  {
   "cell_type": "code",
   "execution_count": 13,
   "id": "bac58b08-0b3d-4a77-a4b2-9c158de379ee",
   "metadata": {
    "tags": []
   },
   "outputs": [
    {
     "data": {
      "text/html": [
       "<div>\n",
       "<style scoped>\n",
       "    .dataframe tbody tr th:only-of-type {\n",
       "        vertical-align: middle;\n",
       "    }\n",
       "\n",
       "    .dataframe tbody tr th {\n",
       "        vertical-align: top;\n",
       "    }\n",
       "\n",
       "    .dataframe thead th {\n",
       "        text-align: right;\n",
       "    }\n",
       "</style>\n",
       "<table border=\"1\" class=\"dataframe\">\n",
       "  <thead>\n",
       "    <tr style=\"text-align: right;\">\n",
       "      <th></th>\n",
       "      <th>Country</th>\n",
       "      <th>Region</th>\n",
       "      <th>Population</th>\n",
       "      <th>Under15</th>\n",
       "      <th>Over60</th>\n",
       "      <th>FertilityRate</th>\n",
       "      <th>LifeExpectancy</th>\n",
       "      <th>ChildMortality</th>\n",
       "      <th>CellularSubscribers</th>\n",
       "      <th>LiteracyRate</th>\n",
       "      <th>GNI</th>\n",
       "      <th>PrimarySchoolEnrollmentMale</th>\n",
       "      <th>PrimarySchoolEnrollmentFemale</th>\n",
       "    </tr>\n",
       "  </thead>\n",
       "  <tbody>\n",
       "    <tr>\n",
       "      <th>85</th>\n",
       "      <td>Japan</td>\n",
       "      <td>Western Pacific</td>\n",
       "      <td>127000</td>\n",
       "      <td>13.12</td>\n",
       "      <td>31.92</td>\n",
       "      <td>1.39</td>\n",
       "      <td>83</td>\n",
       "      <td>3.0</td>\n",
       "      <td>104.95</td>\n",
       "      <td>NaN</td>\n",
       "      <td>35330.0</td>\n",
       "      <td>NaN</td>\n",
       "      <td>NaN</td>\n",
       "    </tr>\n",
       "  </tbody>\n",
       "</table>\n",
       "</div>"
      ],
      "text/plain": [
       "   Country           Region  Population  Under15  Over60  FertilityRate  \\\n",
       "85   Japan  Western Pacific      127000    13.12   31.92           1.39   \n",
       "\n",
       "    LifeExpectancy  ChildMortality  CellularSubscribers  LiteracyRate  \\\n",
       "85              83             3.0               104.95           NaN   \n",
       "\n",
       "        GNI  PrimarySchoolEnrollmentMale  PrimarySchoolEnrollmentFemale  \n",
       "85  35330.0                          NaN                            NaN  "
      ]
     },
     "execution_count": 13,
     "metadata": {},
     "output_type": "execute_result"
    }
   ],
   "source": [
    "who_csv[who_csv[\"Under15\"] == 13.12]"
   ]
  },
  {
   "cell_type": "code",
   "execution_count": 21,
   "id": "9bd8b585-c014-4d9a-bd35-b9d17523a4c4",
   "metadata": {
    "tags": []
   },
   "outputs": [
    {
     "data": {
      "image/png": "[encoded data removed]",
      "text/plain": [
       "<Figure size 432x288 with 1 Axes>"
      ]
     },
     "metadata": {
      "needs_background": "light"
     },
     "output_type": "display_data"
    }
   ],
   "source": [
    "plt.scatter(who_csv[\"GNI\"], who_csv[\"FertilityRate\"])\n",
    "plt.xlabel(\"GNI\")\n",
    "plt.ylabel(\"FertilityRate\")\n",
    "plt.show() # or use semi-column on the command of this cell to remove text about plt plot"
   ]
  },
  {
   "cell_type": "code",
   "execution_count": 23,
   "id": "7981cda9-c61a-4dbc-953d-5b30e0af9ad2",
   "metadata": {
    "tags": []
   },
   "outputs": [],
   "source": [
    "outliers = who_csv[(who_csv[\"GNI\"] > 10000) & (who_csv[\"FertilityRate\"] > 2.5)]"
   ]
  },
  {
   "cell_type": "code",
   "execution_count": 26,
   "id": "2d9f688d-2d9e-40a5-b9fd-40b729ab0656",
   "metadata": {
    "tags": []
   },
   "outputs": [
    {
     "data": {
      "text/plain": [
       "Country                          7\n",
       "Region                           7\n",
       "Population                       7\n",
       "Under15                          7\n",
       "Over60                           7\n",
       "FertilityRate                    7\n",
       "LifeExpectancy                   7\n",
       "ChildMortality                   7\n",
       "CellularSubscribers              7\n",
       "LiteracyRate                     6\n",
       "GNI                              7\n",
       "PrimarySchoolEnrollmentMale      4\n",
       "PrimarySchoolEnrollmentFemale    4\n",
       "dtype: int64"
      ]
     },
     "execution_count": 26,
     "metadata": {},
     "output_type": "execute_result"
    }
   ],
   "source": [
    "outliers.count()"
   ]
  },
  {
   "cell_type": "code",
   "execution_count": 28,
   "id": "ba90aadd-d81a-4e66-a527-801548296300",
   "metadata": {
    "tags": []
   },
   "outputs": [
    {
     "data": {
      "text/html": [
       "<div>\n",
       "<style scoped>\n",
       "    .dataframe tbody tr th:only-of-type {\n",
       "        vertical-align: middle;\n",
       "    }\n",
       "\n",
       "    .dataframe tbody tr th {\n",
       "        vertical-align: top;\n",
       "    }\n",
       "\n",
       "    .dataframe thead th {\n",
       "        text-align: right;\n",
       "    }\n",
       "</style>\n",
       "<table border=\"1\" class=\"dataframe\">\n",
       "  <thead>\n",
       "    <tr style=\"text-align: right;\">\n",
       "      <th></th>\n",
       "      <th>Country</th>\n",
       "      <th>GNI</th>\n",
       "      <th>FertilityRate</th>\n",
       "    </tr>\n",
       "  </thead>\n",
       "  <tbody>\n",
       "    <tr>\n",
       "      <th>22</th>\n",
       "      <td>Botswana</td>\n",
       "      <td>14550.0</td>\n",
       "      <td>2.71</td>\n",
       "    </tr>\n",
       "    <tr>\n",
       "      <th>55</th>\n",
       "      <td>Equatorial Guinea</td>\n",
       "      <td>25620.0</td>\n",
       "      <td>5.04</td>\n",
       "    </tr>\n",
       "    <tr>\n",
       "      <th>62</th>\n",
       "      <td>Gabon</td>\n",
       "      <td>13740.0</td>\n",
       "      <td>4.18</td>\n",
       "    </tr>\n",
       "    <tr>\n",
       "      <th>82</th>\n",
       "      <td>Israel</td>\n",
       "      <td>27110.0</td>\n",
       "      <td>2.92</td>\n",
       "    </tr>\n",
       "    <tr>\n",
       "      <th>87</th>\n",
       "      <td>Kazakhstan</td>\n",
       "      <td>11250.0</td>\n",
       "      <td>2.52</td>\n",
       "    </tr>\n",
       "    <tr>\n",
       "      <th>130</th>\n",
       "      <td>Panama</td>\n",
       "      <td>14510.0</td>\n",
       "      <td>2.52</td>\n",
       "    </tr>\n",
       "    <tr>\n",
       "      <th>149</th>\n",
       "      <td>Saudi Arabia</td>\n",
       "      <td>24700.0</td>\n",
       "      <td>2.76</td>\n",
       "    </tr>\n",
       "  </tbody>\n",
       "</table>\n",
       "</div>"
      ],
      "text/plain": [
       "               Country      GNI  FertilityRate\n",
       "22            Botswana  14550.0           2.71\n",
       "55   Equatorial Guinea  25620.0           5.04\n",
       "62               Gabon  13740.0           4.18\n",
       "82              Israel  27110.0           2.92\n",
       "87          Kazakhstan  11250.0           2.52\n",
       "130             Panama  14510.0           2.52\n",
       "149       Saudi Arabia  24700.0           2.76"
      ]
     },
     "execution_count": 28,
     "metadata": {},
     "output_type": "execute_result"
    }
   ],
   "source": [
    "outliers[[\"Country\", \"GNI\", \"FertilityRate\"]]"
   ]
  },
  {
   "cell_type": "code",
   "execution_count": 29,
   "id": "7a31552e-efc5-4b10-ac78-9a6d2bff91e5",
   "metadata": {
    "tags": []
   },
   "outputs": [
    {
     "data": {
      "text/plain": [
       "count    183.000000\n",
       "mean       2.940656\n",
       "std        1.480984\n",
       "min        1.260000\n",
       "25%        1.835000\n",
       "50%        2.400000\n",
       "75%        3.905000\n",
       "max        7.580000\n",
       "Name: FertilityRate, dtype: float64"
      ]
     },
     "execution_count": 29,
     "metadata": {},
     "output_type": "execute_result"
    }
   ],
   "source": [
    "who_csv.describe()[\"FertilityRate\"]"
   ]
  },
  {
   "cell_type": "code",
   "execution_count": 32,
   "id": "5179d558-dab6-499f-b639-cdd87978fd92",
   "metadata": {
    "tags": []
   },
   "outputs": [
    {
     "data": {
      "text/html": [
       "<div>\n",
       "<style scoped>\n",
       "    .dataframe tbody tr th:only-of-type {\n",
       "        vertical-align: middle;\n",
       "    }\n",
       "\n",
       "    .dataframe tbody tr th {\n",
       "        vertical-align: top;\n",
       "    }\n",
       "\n",
       "    .dataframe thead th {\n",
       "        text-align: right;\n",
       "    }\n",
       "</style>\n",
       "<table border=\"1\" class=\"dataframe\">\n",
       "  <thead>\n",
       "    <tr style=\"text-align: right;\">\n",
       "      <th></th>\n",
       "      <th>Country</th>\n",
       "      <th>Region</th>\n",
       "      <th>Population</th>\n",
       "      <th>Under15</th>\n",
       "      <th>Over60</th>\n",
       "      <th>FertilityRate</th>\n",
       "      <th>LifeExpectancy</th>\n",
       "      <th>ChildMortality</th>\n",
       "      <th>CellularSubscribers</th>\n",
       "      <th>LiteracyRate</th>\n",
       "      <th>GNI</th>\n",
       "      <th>PrimarySchoolEnrollmentMale</th>\n",
       "      <th>PrimarySchoolEnrollmentFemale</th>\n",
       "    </tr>\n",
       "  </thead>\n",
       "  <tbody>\n",
       "    <tr>\n",
       "      <th>43</th>\n",
       "      <td>Cuba</td>\n",
       "      <td>Americas</td>\n",
       "      <td>11271</td>\n",
       "      <td>16.58</td>\n",
       "      <td>17.95</td>\n",
       "      <td>1.46</td>\n",
       "      <td>78</td>\n",
       "      <td>5.5</td>\n",
       "      <td>11.69</td>\n",
       "      <td>99.8</td>\n",
       "      <td>NaN</td>\n",
       "      <td>100.0</td>\n",
       "      <td>99.7</td>\n",
       "    </tr>\n",
       "    <tr>\n",
       "      <th>57</th>\n",
       "      <td>Estonia</td>\n",
       "      <td>Europe</td>\n",
       "      <td>1291</td>\n",
       "      <td>15.69</td>\n",
       "      <td>23.92</td>\n",
       "      <td>1.62</td>\n",
       "      <td>76</td>\n",
       "      <td>3.6</td>\n",
       "      <td>138.98</td>\n",
       "      <td>99.8</td>\n",
       "      <td>20850.0</td>\n",
       "      <td>97.7</td>\n",
       "      <td>97.0</td>\n",
       "    </tr>\n",
       "    <tr>\n",
       "      <th>93</th>\n",
       "      <td>Latvia</td>\n",
       "      <td>Europe</td>\n",
       "      <td>2060</td>\n",
       "      <td>14.57</td>\n",
       "      <td>24.24</td>\n",
       "      <td>1.57</td>\n",
       "      <td>74</td>\n",
       "      <td>8.7</td>\n",
       "      <td>102.94</td>\n",
       "      <td>99.8</td>\n",
       "      <td>17700.0</td>\n",
       "      <td>95.0</td>\n",
       "      <td>96.8</td>\n",
       "    </tr>\n",
       "  </tbody>\n",
       "</table>\n",
       "</div>"
      ],
      "text/plain": [
       "    Country    Region  Population  Under15  Over60  FertilityRate  \\\n",
       "43     Cuba  Americas       11271    16.58   17.95           1.46   \n",
       "57  Estonia    Europe        1291    15.69   23.92           1.62   \n",
       "93   Latvia    Europe        2060    14.57   24.24           1.57   \n",
       "\n",
       "    LifeExpectancy  ChildMortality  CellularSubscribers  LiteracyRate  \\\n",
       "43              78             5.5                11.69          99.8   \n",
       "57              76             3.6               138.98          99.8   \n",
       "93              74             8.7               102.94          99.8   \n",
       "\n",
       "        GNI  PrimarySchoolEnrollmentMale  PrimarySchoolEnrollmentFemale  \n",
       "43      NaN                        100.0                           99.7  \n",
       "57  20850.0                         97.7                           97.0  \n",
       "93  17700.0                         95.0                           96.8  "
      ]
     },
     "execution_count": 32,
     "metadata": {},
     "output_type": "execute_result"
    }
   ],
   "source": [
    "who_csv[who_csv[\"LiteracyRate\"] == 99.8]"
   ]
  },
  {
   "cell_type": "code",
   "execution_count": 36,
   "id": "c9c82937-3dc3-4fcd-b489-5a9f4d869909",
   "metadata": {
    "tags": []
   },
   "outputs": [
    {
     "data": {
      "text/plain": [
       "Text(0, 0.5, 'Frequency')"
      ]
     },
     "execution_count": 36,
     "metadata": {},
     "output_type": "execute_result"
    },
    {
     "data": {
      "image/png": "[encoded data removed]",
      "text/plain": [
       "<Figure size 432x288 with 1 Axes>"
      ]
     },
     "metadata": {
      "needs_background": "light"
     },
     "output_type": "display_data"
    }
   ],
   "source": [
    "plt.hist(who_csv[\"CellularSubscribers\"]);\n",
    "plt.ylabel(\"Frequency\")"
   ]
  },
  {
   "cell_type": "code",
   "execution_count": 54,
   "id": "c0507457-7953-4bab-90d7-41ed299675bf",
   "metadata": {
    "tags": []
   },
   "outputs": [
    {
     "data": {
      "image/png": "[encoded data removed]",
      "text/plain": [
       "<Figure size 1080x576 with 1 Axes>"
      ]
     },
     "metadata": {
      "needs_background": "light"
     },
     "output_type": "display_data"
    }
   ],
   "source": [
    "fig, ax = plt.subplots(figsize=(15,8))\n",
    "who_csv.boxplot(column=\"LifeExpectancy\", by=\"Region\", ax=ax)\n",
    "plt.show()"
   ]
  },
  {
   "cell_type": "code",
   "execution_count": 58,
   "id": "a579fd44-d081-4a5b-9e44-94542a6d3d4f",
   "metadata": {
    "tags": []
   },
   "outputs": [
    {
     "data": {
      "text/plain": [
       "Region\n",
       "Africa                   84.036957\n",
       "Americas                 19.322857\n",
       "Eastern Mediterranean    40.250000\n",
       "Europe                   10.050943\n",
       "South-East Asia          35.045455\n",
       "Western Pacific          24.711111\n",
       "Name: ChildMortality, dtype: float64"
      ]
     },
     "execution_count": 58,
     "metadata": {},
     "output_type": "execute_result"
    }
   ],
   "source": [
    "who_csv.groupby(\"Region\")[\"ChildMortality\"].mean()"
   ]
  },
  {
   "cell_type": "markdown",
   "id": "78b760d9-b2f3-43eb-b588-a6d2ad45308a",
   "metadata": {
    "tags": []
   },
   "source": [
    "# USDA Exploration"
   ]
  },
  {
   "cell_type": "code",
   "execution_count": 6,
   "outputs": [],
   "source": [
    "import matplotlib.pyplot as plt"
   ],
   "metadata": {
    "collapsed": false,
    "pycharm": {
     "name": "#%%\n"
    }
   }
  },
  {
   "cell_type": "code",
   "execution_count": 4,
   "id": "38049e14-1a13-4480-9078-b2d8d48daf79",
   "metadata": {
    "tags": []
   },
   "outputs": [],
   "source": [
    "usda_csv = open_csv(\"../.data/USDA.csv\")"
   ]
  },
  {
   "cell_type": "code",
   "execution_count": 78,
   "id": "656bc828-bf25-467b-851f-cd4630358da3",
   "metadata": {
    "tags": []
   },
   "outputs": [
    {
     "data": {
      "text/plain": [
       "ID                    2047\n",
       "Description     SALT,TABLE\n",
       "Calories               0.0\n",
       "Protein                0.0\n",
       "TotalFat               0.0\n",
       "Carbohydrate           0.0\n",
       "Sodium             38758.0\n",
       "SaturatedFat           0.0\n",
       "Cholesterol            0.0\n",
       "Sugar                  0.0\n",
       "Calcium               24.0\n",
       "Iron                  0.33\n",
       "Potassium              8.0\n",
       "VitaminC               0.0\n",
       "VitaminE               0.0\n",
       "VitaminD               0.0\n",
       "Name: 264, dtype: object"
      ]
     },
     "execution_count": 78,
     "metadata": {},
     "output_type": "execute_result"
    }
   ],
   "source": [
    "# Find largest values in dataframe \n",
    "usda_csv.nlargest(1,[\"Sodium\"])\n",
    "usda_csv.loc[usda_csv[\"Sodium\"].idxmax()]"
   ]
  },
  {
   "cell_type": "code",
   "execution_count": 79,
   "id": "6ec87096-b4aa-471c-9eb0-bd9e78a35f9b",
   "metadata": {
    "tags": []
   },
   "outputs": [],
   "source": [
    "high_sodium = usda_csv.loc[usda_csv[\"Sodium\"] > 10000]"
   ]
  },
  {
   "cell_type": "code",
   "execution_count": 84,
   "id": "2acb455e-b1cf-419e-97e9-ca2ee496e5de",
   "metadata": {
    "tags": []
   },
   "outputs": [
    {
     "data": {
      "text/plain": [
       "array(['SALT,TABLE', 'SOUP,BF BROTH OR BOUILLON,PDR,DRY',\n",
       "       'SOUP,BEEF BROTH,CUBED,DRY', 'SOUP,CHICK BROTH OR BOUILLON,DRY',\n",
       "       'SOUP,CHICK BROTH CUBES,DRY', 'GRAVY,AU JUS,DRY', 'ADOBO FRESCO',\n",
       "       'LEAVENING AGENTS,BAKING PDR,DOUBLE-ACTING,NA AL SULFATE',\n",
       "       'LEAVENING AGENTS,BAKING SODA', 'DESSERTS,RENNIN,TABLETS,UNSWTND'],\n",
       "      dtype=object)"
      ]
     },
     "execution_count": 84,
     "metadata": {},
     "output_type": "execute_result"
    }
   ],
   "source": [
    "high_sodium[\"Description\"].unique()"
   ]
  },
  {
   "cell_type": "code",
   "execution_count": 88,
   "id": "c8745b99-69de-4dfe-9f82-3ef5cf9830e1",
   "metadata": {
    "tags": []
   },
   "outputs": [
    {
     "data": {
      "text/plain": [
       "4153    1500.0\n",
       "Name: Sodium, dtype: float64"
      ]
     },
     "execution_count": 88,
     "metadata": {},
     "output_type": "execute_result"
    }
   ],
   "source": [
    "caviar = usda_csv.loc[usda_csv[\"Description\"].str.contains(\"caviar\", case=False)]\n",
    "caviar[\"Sodium\"]"
   ]
  },
  {
   "cell_type": "code",
   "execution_count": 13,
   "id": "e61cf895-5e53-4193-90a8-f4e09abc1931",
   "metadata": {
    "tags": []
   },
   "outputs": [
    {
     "data": {
      "text/plain": "<Figure size 432x288 with 1 Axes>",
      "image/png": "[encoded data removed]"
     },
     "metadata": {
      "needs_background": "light"
     },
     "output_type": "display_data"
    }
   ],
   "source": [
    "plt.scatter(usda_csv['Protein'], usda_csv['TotalFat'])\n",
    "plt.title('Protein vs TotalFat')\n",
    "plt.xlabel('Protein')\n",
    "plt.ylabel('TotalFat');"
   ]
  },
  {
   "cell_type": "code",
   "execution_count": 22,
   "id": "9c610653-281c-42b0-9716-4c9ccb6893c3",
   "metadata": {},
   "outputs": [
    {
     "data": {
      "text/plain": "Text(0, 0.5, 'Frequency')"
     },
     "execution_count": 22,
     "metadata": {},
     "output_type": "execute_result"
    },
    {
     "data": {
      "text/plain": "<Figure size 432x288 with 1 Axes>",
      "image/png": "[encoded data removed]"
     },
     "metadata": {
      "needs_background": "light"
     },
     "output_type": "display_data"
    }
   ],
   "source": [
    "plt.hist(usda_csv[\"VitaminC\"], range=(0,100), bins=range(100))\n",
    "plt.xlabel(\"VitaminC levels\")\n",
    "plt.ylabel(\"Frequency\")"
   ]
  },
  {
   "cell_type": "code",
   "execution_count": null,
   "outputs": [],
   "source": [],
   "metadata": {
    "collapsed": false,
    "pycharm": {
     "name": "#%%\n"
    }
   }
  }
 ],
 "metadata": {
  "kernelspec": {
   "display_name": "Python 3 (ipykernel)",
   "language": "python",
   "name": "python3"
  },
  "language_info": {
   "codemirror_mode": {
    "name": "ipython",
    "version": 3
   },
   "file_extension": ".py",
   "mimetype": "text/x-python",
   "name": "python",
   "nbconvert_exporter": "python",
   "pygments_lexer": "ipython3",
   "version": "3.9.7"
  }
 },
 "nbformat": 4,
 "nbformat_minor": 5
}