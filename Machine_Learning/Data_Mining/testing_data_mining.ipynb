{
 "cells": [
  {
   "cell_type": "code",
   "execution_count": 67,
   "id": "initial_id",
   "metadata": {},
   "outputs": [],
   "source": [
    "import pandas as pd\n",
    "import numpy as np\n",
    "from sklearn.preprocessing import OneHotEncoder, LabelEncoder"
   ]
  },
  {
   "cell_type": "code",
   "execution_count": 25,
   "id": "db1f689e-3712-4805-aa46-1003d196bf41",
   "metadata": {},
   "outputs": [
    {
     "name": "stdout",
     "output_type": "stream",
     "text": [
      "<class 'pandas.core.frame.DataFrame'>\n",
      "RangeIndex: 4920 entries, 0 to 4919\n",
      "Columns: 134 entries, itching to Unnamed: 133\n",
      "dtypes: float64(1), int64(132), object(1)\n",
      "memory usage: 5.0+ MB\n"
     ]
    }
   ],
   "source": [
    "df = pd.read_csv(\"training_data.csv\")\n",
    "df.info()"
   ]
  },
  {
   "cell_type": "code",
   "execution_count": 54,
   "id": "b07494f3-43c9-44a9-9d8f-e232e5def584",
   "metadata": {},
   "outputs": [
    {
     "name": "stdout",
     "output_type": "stream",
     "text": [
      "Index(['prognosis'], dtype='object')\n",
      "\n",
      "          prognosis\n",
      "0  Fungal infection\n",
      "1  Fungal infection\n",
      "2  Fungal infection\n"
     ]
    }
   ],
   "source": [
    "# check dtypes\n",
    "df_dtypes = df.select_dtypes(include=[object])\n",
    "print(df_dtypes.columns)\n",
    "print(\"\")\n",
    "print(df_dtypes.head(3))"
   ]
  },
  {
   "cell_type": "code",
   "execution_count": 56,
   "id": "9e4cda3e-3683-439f-946d-c26414106651",
   "metadata": {},
   "outputs": [
    {
     "data": {
      "text/plain": [
       "(4920, 134)"
      ]
     },
     "execution_count": 56,
     "metadata": {},
     "output_type": "execute_result"
    }
   ],
   "source": [
    "# check shape\n",
    "df.shape"
   ]
  },
  {
   "cell_type": "code",
   "execution_count": 30,
   "id": "337f32fd-3ef9-4295-8de8-3216f6c6d06c",
   "metadata": {},
   "outputs": [],
   "source": [
    "# drop unnamed column\n",
    "df_drop_unnamed = df.drop('Unnamed: 133', axis=1)"
   ]
  },
  {
   "cell_type": "code",
   "execution_count": 43,
   "id": "3babd787-7080-4fed-9550-c6ef7c659cba",
   "metadata": {},
   "outputs": [],
   "source": [
    "target_types = df_drop_unnamed[\"prognosis\"].unique().tolist()\n",
    "target = df['prognosis']\n",
    "df_train = df_drop_unnamed.drop(\"prognosis\", axis=1)"
   ]
  },
  {
   "cell_type": "code",
   "execution_count": 69,
   "id": "991c07ea-c2b6-458e-b944-5594d9e3ab1d",
   "metadata": {},
   "outputs": [],
   "source": [
    "# convert target to encoding using LabelEncoder as that is what people tend to do. Just dont use it if using\n",
    "# tree method or any method that could infer order from number \n",
    "# encoder = OneHotEncoder(handle_unknown='ignore')\n",
    "encoder = LabelEncoder()"
   ]
  },
  {
   "cell_type": "code",
   "execution_count": 71,
   "id": "fa24a33b-0a4f-45f2-89c5-0b4fd0e7de36",
   "metadata": {},
   "outputs": [
    {
     "name": "stdout",
     "output_type": "stream",
     "text": [
      "(4920,)\n",
      "[15 15 15 ... 38 35 27]\n"
     ]
    }
   ],
   "source": [
    "y_transformed = encoder.fit_transform(target)\n",
    "print(y_transformed.shape)\n",
    "print(y_transformed)"
   ]
  },
  {
   "cell_type": "code",
   "execution_count": null,
   "id": "fe1c4824-2268-4fbb-841a-4ba9c47342ee",
   "metadata": {},
   "outputs": [],
   "source": []
  }
 ],
 "metadata": {
  "kernelspec": {
   "display_name": "ml",
   "language": "python",
   "name": "ml"
  },
  "language_info": {
   "codemirror_mode": {
    "name": "ipython",
    "version": 3
   },
   "file_extension": ".py",
   "mimetype": "text/x-python",
   "name": "python",
   "nbconvert_exporter": "python",
   "pygments_lexer": "ipython3",
   "version": "3.10.14"
  }
 },
 "nbformat": 4,
 "nbformat_minor": 5
}
