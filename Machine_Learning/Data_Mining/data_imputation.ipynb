{
 "cells": [
  {
   "cell_type": "markdown",
   "metadata": {
    "collapsed": true,
    "pycharm": {
     "name": "#%% md\n"
    }
   },
   "source": [
    "# Imputation techniques"
   ]
  },
  {
   "cell_type": "markdown",
   "source": [
    "## MICE"
   ],
   "metadata": {
    "collapsed": false,
    "pycharm": {
     "name": "#%% md\n"
    }
   }
  },
  {
   "cell_type": "code",
   "source": [
    "import json\n",
    "# !pip install scikit-learn\n",
    "from sklearn.experimental import enable_iterative_imputer\n",
    "from sklearn.impute import IterativeImputer\n",
    "import pandas as pd"
   ],
   "metadata": {
    "collapsed": false,
    "pycharm": {
     "name": "#%%\n"
    },
    "ExecuteTime": {
     "end_time": "2024-10-15T15:52:34.826789Z",
     "start_time": "2024-10-15T15:52:34.823023Z"
    }
   },
   "outputs": [],
   "execution_count": 7
  },
  {
   "cell_type": "code",
   "execution_count": null,
   "outputs": [],
   "source": [
    "imputer = IterativeImputer(random_state=10, max_iter=12) # default value for iteration 10"
   ],
   "metadata": {
    "collapsed": false,
    "pycharm": {
     "name": "#%%\n"
    }
   }
  },
  {
   "cell_type": "code",
   "execution_count": null,
   "outputs": [],
   "source": [
    "df = pd.read_csv(\"/Users/anasthasia_manu/PycharmProjects/CS_Learning/.data/estimated-article-influence-scores-2015.csv\")\n",
    "df.describe(include=\"all\")"
   ],
   "metadata": {
    "collapsed": false,
    "pycharm": {
     "name": "#%%\n"
    }
   }
  },
  {
   "metadata": {
    "ExecuteTime": {
     "end_time": "2024-10-15T15:52:38.877897Z",
     "start_time": "2024-10-15T15:52:38.872754Z"
    }
   },
   "cell_type": "code",
   "source": [
    "file_full_features = \"/Users/anasthasia_manu/Downloads/outputs_full_features-2.parquet\"\n",
    "json_categorical_mappings = \"/Users/anasthasia_manu/Downloads/outputs_categorical_mappings-1.json\"\n",
    "output_parquet = pd.read_parquet(file_full_features)\n",
    "with open(json_categorical_mappings, \"r\") as json_file:\n",
    "    categorical_mappings = json.load(json_file)\n"
   ],
   "outputs": [],
   "execution_count": 8
  },
  {
   "metadata": {
    "ExecuteTime": {
     "end_time": "2024-10-15T15:52:59.695042Z",
     "start_time": "2024-10-15T15:52:59.681951Z"
    }
   },
   "cell_type": "code",
   "source": [
    "output_parquet.columns\n",
    "output_parquet.head()"
   ],
   "outputs": [
    {
     "data": {
      "text/plain": [
       "   index         cogs  customer_id      margin    product_id      revenue  \\\n",
       "0      0   486.963591            0  347.976486  Product ID 7   908.423387   \n",
       "1    120   434.324859            0  315.948482  Product ID 7   778.058382   \n",
       "2    226   636.969995            0  378.252232  Product ID 7  1078.162638   \n",
       "3    230   832.414568            0  344.582847  Product ID 7  1244.924285   \n",
       "4    325  1001.146065            0  653.138287  Product ID 7  1778.100393   \n",
       "\n",
       "  transaction_date     volume  product_level_3  geo_level_3  ...  \\\n",
       "0       2019-03-29  46.943272  Product group 2            2  ...   \n",
       "1       2019-07-27  41.940123  Product group 2            3  ...   \n",
       "2       2019-08-30  61.855311  Product group 2            1  ...   \n",
       "3       2019-03-21  82.264877  Product group 2            0  ...   \n",
       "4       2019-04-12  98.865132  Product group 2            1  ...   \n",
       "\n",
       "   customer_volume_sum  customer_volume_mean  customer_volume_std  \\\n",
       "0          5513.704805             51.052822            28.589359   \n",
       "1          5513.704805             51.052822            28.589359   \n",
       "2          5513.704805             51.052822            28.589359   \n",
       "3          5513.704805             51.052822            28.589359   \n",
       "4          5513.704805             51.052822            28.589359   \n",
       "\n",
       "   product_customer_id_count  product_customer_id_nunique  product_age  \\\n",
       "0                      119.0                         10.0        720.0   \n",
       "1                      119.0                         10.0        720.0   \n",
       "2                      119.0                         10.0        720.0   \n",
       "3                      119.0                         10.0        720.0   \n",
       "4                      119.0                         10.0        720.0   \n",
       "\n",
       "   product_transaction_date_count  product_volume_sum  product_volume_mean  \\\n",
       "0                           119.0         5621.486399            47.239382   \n",
       "1                           119.0         5621.486399            47.239382   \n",
       "2                           119.0         5621.486399            47.239382   \n",
       "3                           119.0         5621.486399            47.239382   \n",
       "4                           119.0         5621.486399            47.239382   \n",
       "\n",
       "   product_volume_std  \n",
       "0           26.476475  \n",
       "1           26.476475  \n",
       "2           26.476475  \n",
       "3           26.476475  \n",
       "4           26.476475  \n",
       "\n",
       "[5 rows x 36 columns]"
      ],
      "text/html": [
       "<div>\n",
       "<style scoped>\n",
       "    .dataframe tbody tr th:only-of-type {\n",
       "        vertical-align: middle;\n",
       "    }\n",
       "\n",
       "    .dataframe tbody tr th {\n",
       "        vertical-align: top;\n",
       "    }\n",
       "\n",
       "    .dataframe thead th {\n",
       "        text-align: right;\n",
       "    }\n",
       "</style>\n",
       "<table border=\"1\" class=\"dataframe\">\n",
       "  <thead>\n",
       "    <tr style=\"text-align: right;\">\n",
       "      <th></th>\n",
       "      <th>index</th>\n",
       "      <th>cogs</th>\n",
       "      <th>customer_id</th>\n",
       "      <th>margin</th>\n",
       "      <th>product_id</th>\n",
       "      <th>revenue</th>\n",
       "      <th>transaction_date</th>\n",
       "      <th>volume</th>\n",
       "      <th>product_level_3</th>\n",
       "      <th>geo_level_3</th>\n",
       "      <th>...</th>\n",
       "      <th>customer_volume_sum</th>\n",
       "      <th>customer_volume_mean</th>\n",
       "      <th>customer_volume_std</th>\n",
       "      <th>product_customer_id_count</th>\n",
       "      <th>product_customer_id_nunique</th>\n",
       "      <th>product_age</th>\n",
       "      <th>product_transaction_date_count</th>\n",
       "      <th>product_volume_sum</th>\n",
       "      <th>product_volume_mean</th>\n",
       "      <th>product_volume_std</th>\n",
       "    </tr>\n",
       "  </thead>\n",
       "  <tbody>\n",
       "    <tr>\n",
       "      <th>0</th>\n",
       "      <td>0</td>\n",
       "      <td>486.963591</td>\n",
       "      <td>0</td>\n",
       "      <td>347.976486</td>\n",
       "      <td>Product ID 7</td>\n",
       "      <td>908.423387</td>\n",
       "      <td>2019-03-29</td>\n",
       "      <td>46.943272</td>\n",
       "      <td>Product group 2</td>\n",
       "      <td>2</td>\n",
       "      <td>...</td>\n",
       "      <td>5513.704805</td>\n",
       "      <td>51.052822</td>\n",
       "      <td>28.589359</td>\n",
       "      <td>119.0</td>\n",
       "      <td>10.0</td>\n",
       "      <td>720.0</td>\n",
       "      <td>119.0</td>\n",
       "      <td>5621.486399</td>\n",
       "      <td>47.239382</td>\n",
       "      <td>26.476475</td>\n",
       "    </tr>\n",
       "    <tr>\n",
       "      <th>1</th>\n",
       "      <td>120</td>\n",
       "      <td>434.324859</td>\n",
       "      <td>0</td>\n",
       "      <td>315.948482</td>\n",
       "      <td>Product ID 7</td>\n",
       "      <td>778.058382</td>\n",
       "      <td>2019-07-27</td>\n",
       "      <td>41.940123</td>\n",
       "      <td>Product group 2</td>\n",
       "      <td>3</td>\n",
       "      <td>...</td>\n",
       "      <td>5513.704805</td>\n",
       "      <td>51.052822</td>\n",
       "      <td>28.589359</td>\n",
       "      <td>119.0</td>\n",
       "      <td>10.0</td>\n",
       "      <td>720.0</td>\n",
       "      <td>119.0</td>\n",
       "      <td>5621.486399</td>\n",
       "      <td>47.239382</td>\n",
       "      <td>26.476475</td>\n",
       "    </tr>\n",
       "    <tr>\n",
       "      <th>2</th>\n",
       "      <td>226</td>\n",
       "      <td>636.969995</td>\n",
       "      <td>0</td>\n",
       "      <td>378.252232</td>\n",
       "      <td>Product ID 7</td>\n",
       "      <td>1078.162638</td>\n",
       "      <td>2019-08-30</td>\n",
       "      <td>61.855311</td>\n",
       "      <td>Product group 2</td>\n",
       "      <td>1</td>\n",
       "      <td>...</td>\n",
       "      <td>5513.704805</td>\n",
       "      <td>51.052822</td>\n",
       "      <td>28.589359</td>\n",
       "      <td>119.0</td>\n",
       "      <td>10.0</td>\n",
       "      <td>720.0</td>\n",
       "      <td>119.0</td>\n",
       "      <td>5621.486399</td>\n",
       "      <td>47.239382</td>\n",
       "      <td>26.476475</td>\n",
       "    </tr>\n",
       "    <tr>\n",
       "      <th>3</th>\n",
       "      <td>230</td>\n",
       "      <td>832.414568</td>\n",
       "      <td>0</td>\n",
       "      <td>344.582847</td>\n",
       "      <td>Product ID 7</td>\n",
       "      <td>1244.924285</td>\n",
       "      <td>2019-03-21</td>\n",
       "      <td>82.264877</td>\n",
       "      <td>Product group 2</td>\n",
       "      <td>0</td>\n",
       "      <td>...</td>\n",
       "      <td>5513.704805</td>\n",
       "      <td>51.052822</td>\n",
       "      <td>28.589359</td>\n",
       "      <td>119.0</td>\n",
       "      <td>10.0</td>\n",
       "      <td>720.0</td>\n",
       "      <td>119.0</td>\n",
       "      <td>5621.486399</td>\n",
       "      <td>47.239382</td>\n",
       "      <td>26.476475</td>\n",
       "    </tr>\n",
       "    <tr>\n",
       "      <th>4</th>\n",
       "      <td>325</td>\n",
       "      <td>1001.146065</td>\n",
       "      <td>0</td>\n",
       "      <td>653.138287</td>\n",
       "      <td>Product ID 7</td>\n",
       "      <td>1778.100393</td>\n",
       "      <td>2019-04-12</td>\n",
       "      <td>98.865132</td>\n",
       "      <td>Product group 2</td>\n",
       "      <td>1</td>\n",
       "      <td>...</td>\n",
       "      <td>5513.704805</td>\n",
       "      <td>51.052822</td>\n",
       "      <td>28.589359</td>\n",
       "      <td>119.0</td>\n",
       "      <td>10.0</td>\n",
       "      <td>720.0</td>\n",
       "      <td>119.0</td>\n",
       "      <td>5621.486399</td>\n",
       "      <td>47.239382</td>\n",
       "      <td>26.476475</td>\n",
       "    </tr>\n",
       "  </tbody>\n",
       "</table>\n",
       "<p>5 rows × 36 columns</p>\n",
       "</div>"
      ]
     },
     "execution_count": 10,
     "metadata": {},
     "output_type": "execute_result"
    }
   ],
   "execution_count": 10
  },
  {
   "metadata": {},
   "cell_type": "code",
   "outputs": [],
   "execution_count": null,
   "source": ""
  }
 ],
 "metadata": {
  "kernelspec": {
   "display_name": "Python 3",
   "language": "python",
   "name": "python3"
  },
  "language_info": {
   "codemirror_mode": {
    "name": "ipython",
    "version": 2
   },
   "file_extension": ".py",
   "mimetype": "text/x-python",
   "name": "python",
   "nbconvert_exporter": "python",
   "pygments_lexer": "ipython2",
   "version": "2.7.6"
  }
 },
 "nbformat": 4,
 "nbformat_minor": 0
}
