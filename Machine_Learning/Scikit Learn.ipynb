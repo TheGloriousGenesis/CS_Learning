{
 "cells": [
  {
   "cell_type": "markdown",
   "id": "296d5a01",
   "metadata": {},
   "source": [
    "# Introduction to Scikit-Learn (sklearn)\n",
    "\n",
    "This notbook demonstrates some of the most useful functions of the beautiful Scikit-Learn library.\n",
    "\n",
    "What we're going to cover:\n",
    "\n",
    "0. An end-to-end Scikit-Learn workflow\n",
    "1. Getting the data ready\n",
    "2. Choose the right estimator/algorithm for our problems\n",
    "3. Fit the model/algorithm and use it to make predictions on our data\n",
    "4. Evaluating a model\n",
    "5. Improve a model\n",
    "6. Save and load a trained model\n",
    "7. Putting it all together"
   ]
  },
  {
   "cell_type": "markdown",
   "id": "077e539b",
   "metadata": {},
   "source": [
    "## 0. An end-to-end Scikit-Learn workflow"
   ]
  },
  {
   "cell_type": "code",
   "execution_count": 2,
   "id": "ea6ffabc",
   "metadata": {},
   "outputs": [],
   "source": [
    "%matplotlib inline\n",
    "import numpy as np\n",
    "import matplotlib.pyplot as plt\n",
    "import pandas as pd"
   ]
  },
  {
   "cell_type": "code",
   "execution_count": 2,
   "id": "0cf91083",
   "metadata": {},
   "outputs": [],
   "source": [
    "# 1. Get the data ready\n",
    "heart_disease = pd.read_csv(\"heart-disease.csv\")\n",
    "\n",
    "# Features matrix\n",
    "X = heart_disease.drop(\"target\", axis=1)\n",
    "# labels\n",
    "y = heart_disease['target']"
   ]
  },
  {
   "cell_type": "code",
   "execution_count": 3,
   "id": "cf89984d",
   "metadata": {},
   "outputs": [
    {
     "data": {
      "text/plain": [
       "{'bootstrap': True,\n",
       " 'ccp_alpha': 0.0,\n",
       " 'class_weight': None,\n",
       " 'criterion': 'gini',\n",
       " 'max_depth': None,\n",
       " 'max_features': 'auto',\n",
       " 'max_leaf_nodes': None,\n",
       " 'max_samples': None,\n",
       " 'min_impurity_decrease': 0.0,\n",
       " 'min_impurity_split': None,\n",
       " 'min_samples_leaf': 1,\n",
       " 'min_samples_split': 2,\n",
       " 'min_weight_fraction_leaf': 0.0,\n",
       " 'n_estimators': 100,\n",
       " 'n_jobs': None,\n",
       " 'oob_score': False,\n",
       " 'random_state': None,\n",
       " 'verbose': 0,\n",
       " 'warm_start': False}"
      ]
     },
     "execution_count": 3,
     "metadata": {},
     "output_type": "execute_result"
    }
   ],
   "source": [
    "# 2. Choose the right model and hyperparameters\n",
    "from sklearn.ensemble import RandomForestClassifier\n",
    "clf = RandomForestClassifier()\n",
    "\n",
    "# We'll keep the default hyperparameters\n",
    "clf.get_params()"
   ]
  },
  {
   "cell_type": "code",
   "execution_count": 4,
   "id": "f8075333",
   "metadata": {},
   "outputs": [],
   "source": [
    "# 3. Fit the model to the training data\n",
    "from sklearn.model_selection import train_test_split\n",
    "\n",
    "X_train, X_test, y_train, y_test = train_test_split(X, y, test_size=0.2)\n",
    "\n",
    "clf.fit(X_train, y_train);\n",
    "\n",
    "# Make a prediction\n",
    "y_preds = clf.predict(X_test)"
   ]
  },
  {
   "cell_type": "code",
   "execution_count": 5,
   "id": "64b5b22b",
   "metadata": {},
   "outputs": [
    {
     "name": "stdout",
     "output_type": "stream",
     "text": [
      "1.0\n",
      "0.8524590163934426\n",
      "              precision    recall  f1-score   support\n",
      "\n",
      "           0       0.85      0.88      0.86        32\n",
      "           1       0.86      0.83      0.84        29\n",
      "\n",
      "    accuracy                           0.85        61\n",
      "   macro avg       0.85      0.85      0.85        61\n",
      "weighted avg       0.85      0.85      0.85        61\n",
      "\n",
      "[[28  4]\n",
      " [ 5 24]]\n",
      "0.8524590163934426\n"
     ]
    }
   ],
   "source": [
    "# 4. Evaluate the model on training data and test data\n",
    "from sklearn.metrics import classification_report, confusion_matrix, accuracy_score\n",
    "\n",
    "train_score = clf.score(X_train, y_train)\n",
    "test_score = clf.score(X_test, y_test)\n",
    "\n",
    "\n",
    "print(train_score)\n",
    "print(test_score)\n",
    "print(classification_report(y_test, y_preds))\n",
    "print(confusion_matrix(y_test, y_preds))\n",
    "print(accuracy_score(y_test, y_preds))"
   ]
  },
  {
   "cell_type": "code",
   "execution_count": 8,
   "id": "f16285c8",
   "metadata": {},
   "outputs": [
    {
     "name": "stdout",
     "output_type": "stream",
     "text": [
      "Trying model with 10 estimators\n",
      "Model accuracy on test set: 83.61%\n",
      "\n",
      "Trying model with 20 estimators\n",
      "Model accuracy on test set: 86.89%\n",
      "\n",
      "Trying model with 30 estimators\n",
      "Model accuracy on test set: 86.89%\n",
      "\n",
      "Trying model with 40 estimators\n",
      "Model accuracy on test set: 81.97%\n",
      "\n",
      "Trying model with 50 estimators\n",
      "Model accuracy on test set: 81.97%\n",
      "\n",
      "Trying model with 60 estimators\n",
      "Model accuracy on test set: 83.61%\n",
      "\n",
      "Trying model with 70 estimators\n",
      "Model accuracy on test set: 83.61%\n",
      "\n",
      "Trying model with 80 estimators\n",
      "Model accuracy on test set: 85.25%\n",
      "\n",
      "Trying model with 90 estimators\n",
      "Model accuracy on test set: 81.97%\n",
      "\n"
     ]
    }
   ],
   "source": [
    "# 5. Improve a model\n",
    "# Try different amount of n_estimators\n",
    "np.random.seed(42)\n",
    "for i in range(10,100,10):\n",
    "    print(f\"Trying model with {i} estimators\")\n",
    "    clf = RandomForestClassifier(n_estimators=i).fit(X_train, y_train)\n",
    "    print(f\"Model accuracy on test set: {clf.score(X_test, y_test) * 100:.2f}%\")\n",
    "    print(\"\")"
   ]
  },
  {
   "cell_type": "code",
   "execution_count": 14,
   "id": "f3ac33ca",
   "metadata": {},
   "outputs": [
    {
     "data": {
      "text/plain": [
       "0.819672131147541"
      ]
     },
     "execution_count": 14,
     "metadata": {},
     "output_type": "execute_result"
    }
   ],
   "source": [
    "# 6. Save a model and load it\n",
    "import pickle\n",
    "import os\n",
    "\n",
    "os.makedirs(\"models\", exist_ok=False)\n",
    "\n",
    "pickle.dump(clf, open(\"models/random_forest_model_1.pkl\", \"wb\"))\n",
    "\n",
    "loaded_model = pickle.load(open(\"models/random_forest_model_1.pkl\", \"rb\"))\n",
    "loaded_model.score(X_test, y_test)"
   ]
  },
  {
   "cell_type": "markdown",
   "id": "da1d36b0",
   "metadata": {},
   "source": [
    "## 1. Getting the data ready\n",
    "\n",
    "1. Split data into features and labels (X, y)\n",
    "2. Filling (imputing) or disregarding missing values\n",
    "3. Converting non-numerical values to numerical values (feature encoding)"
   ]
  },
  {
   "cell_type": "code",
   "execution_count": 7,
   "id": "8bf69291",
   "metadata": {},
   "outputs": [
    {
     "data": {
      "text/plain": [
       "(     id                                              name  host_id  \\\n",
       " 0  2539                Clean & quiet apt home by the park     2787   \n",
       " 1  2595                             Skylit Midtown Castle     2845   \n",
       " 2  3647               THE VILLAGE OF HARLEM....NEW YORK !     4632   \n",
       " 3  3831                   Cozy Entire Floor of Brownstone     4869   \n",
       " 4  5022  Entire Apt: Spacious Studio/Loft by central park     7192   \n",
       " \n",
       "      host_name neighbourhood_group  latitude  longitude        room_type  \\\n",
       " 0         John            Brooklyn  40.64749  -73.97237     Private room   \n",
       " 1     Jennifer           Manhattan  40.75362  -73.98377  Entire home/apt   \n",
       " 2    Elisabeth           Manhattan  40.80902  -73.94190     Private room   \n",
       " 3  LisaRoxanne            Brooklyn  40.68514  -73.95976  Entire home/apt   \n",
       " 4        Laura           Manhattan  40.79851  -73.94399  Entire home/apt   \n",
       " \n",
       "    price  minimum_nights  number_of_reviews last_review  reviews_per_month  \\\n",
       " 0    149               1                  9  2018-10-19               0.21   \n",
       " 1    225               1                 45  2019-05-21               0.38   \n",
       " 2    150               3                  0         NaN                NaN   \n",
       " 3     89               1                270  2019-07-05               4.64   \n",
       " 4     80              10                  9  2018-11-19               0.10   \n",
       " \n",
       "    calculated_host_listings_count  availability_365  \n",
       " 0                               6               365  \n",
       " 1                               2               355  \n",
       " 2                               1               365  \n",
       " 3                               1               194  \n",
       " 4                               1                 0  ,\n",
       " 0      Kensington\n",
       " 1         Midtown\n",
       " 2          Harlem\n",
       " 3    Clinton Hill\n",
       " 4     East Harlem\n",
       " Name: neighbourhood, dtype: object)"
      ]
     },
     "execution_count": 7,
     "metadata": {},
     "output_type": "execute_result"
    }
   ],
   "source": [
    "# from https://www.kaggle.com/dgomonov/new-york-city-airbnb-open-data/version/3\n",
    "AB_NYC = pd.read_csv(\"AB_NYC_2019.csv\")\n",
    "AB_NYC.head()\n",
    "# Drop column\n",
    "X = AB_NYC.drop(\"neighbourhood\", axis=1)\n",
    "y = AB_NYC['neighbourhood']\n",
    "\n",
    "from sklearn.model_selection "
   ]
  },
  {
   "cell_type": "code",
   "execution_count": null,
   "id": "ed721294",
   "metadata": {},
   "outputs": [],
   "source": [
    "# Hypothesis: Neighbourhood has high impact on price. This is a regression problem. \n",
    "# Non sensical Hypothesis: predict neighbourhood, based on price and room_type \n"
   ]
  }
 ],
 "metadata": {
  "kernelspec": {
   "display_name": "Python 3 (ipykernel)",
   "language": "python",
   "name": "python3"
  },
  "language_info": {
   "codemirror_mode": {
    "name": "ipython",
    "version": 3
   },
   "file_extension": ".py",
   "mimetype": "text/x-python",
   "name": "python",
   "nbconvert_exporter": "python",
   "pygments_lexer": "ipython3",
   "version": "3.9.7"
  }
 },
 "nbformat": 4,
 "nbformat_minor": 5
}
