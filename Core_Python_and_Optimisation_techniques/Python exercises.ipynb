{
 "cells": [
  {
   "cell_type": "code",
   "execution_count": 1,
   "id": "4c135238",
   "metadata": {},
   "outputs": [],
   "source": [
    "\"\"\"\n",
    "# ipython_exit.py\n",
    "Allows exit() to work if script is invoked with IPython without\n",
    "raising NameError Exception. Keeps kernel alive.\n",
    "\n",
    "Use: import variable 'exit' in target script with\n",
    "     'from ipython_exit import exit'    \n",
    "\"\"\"\n",
    "\n",
    "import sys\n",
    "from io import StringIO\n",
    "from IPython import get_ipython\n",
    "\n",
    "\n",
    "class IpyExit(SystemExit):\n",
    "    \"\"\"Exit Exception for IPython.\n",
    "\n",
    "    Exception temporarily redirects stderr to buffer.\n",
    "    \"\"\"\n",
    "    def __init__(self):\n",
    "        # print(\"exiting\")  # optionally print some message to stdout, too\n",
    "        # ... or do other stuff before exit\n",
    "        sys.stderr = StringIO()\n",
    "\n",
    "    def __del__(self):\n",
    "        sys.stderr.close()\n",
    "        sys.stderr = sys.__stderr__  # restore from backup\n",
    "\n",
    "\n",
    "def ipy_exit():\n",
    "    raise IpyExit\n",
    "\n",
    "\n",
    "if get_ipython():    # ...run with IPython\n",
    "    exit = ipy_exit  # rebind to custom exit\n",
    "else:\n",
    "    exit = exit      # just make exit importable"
   ]
  },
  {
   "cell_type": "markdown",
   "id": "7893d6ce",
   "metadata": {},
   "source": [
    "### Example of Forking\n",
    "\n",
    "The return value from the .fork() method tells us whether we are in the child process (== 0), in the parent process (==  $\\mathbb{R}^{+}$) or an error has occured (== $\\mathbb{R}^{-}$)"
   ]
  },
  {
   "cell_type": "code",
   "execution_count": null,
   "id": "5d81b72e",
   "metadata": {},
   "outputs": [],
   "source": [
    "import os\n",
    "\n",
    "def child():\n",
    "    print(\"\\n new child \", os.getpid())\n",
    "    os._exit(0)\n",
    "    \n",
    "def parent():\n",
    "    while True:\n",
    "        newpid = os.fork()\n",
    "        ## return value from fork() tells us if we are in\n",
    "        if newpid == 0:\n",
    "            child()\n",
    "        else:\n",
    "            pids = (os.getpid(), newpid)\n",
    "            print(\"parent: %d , child: %d \\n\" % pids)\n",
    "        reply = input(\"q for quit / c for new fork\")\n",
    "        if reply == \"c\":\n",
    "            continue\n",
    "        else:\n",
    "            break\n",
    "\n",
    "parent()"
   ]
  },
  {
   "cell_type": "markdown",
   "id": "9846debf",
   "metadata": {},
   "source": [
    "## Example of Arrays"
   ]
  },
  {
   "cell_type": "markdown",
   "id": "8066bbc6",
   "metadata": {},
   "source": [
    "### Example 1"
   ]
  },
  {
   "cell_type": "code",
   "execution_count": 13,
   "id": "b4a6f611",
   "metadata": {},
   "outputs": [
    {
     "name": "stdout",
     "output_type": "stream",
     "text": [
      "huump\n",
      "String does not have unique characters\n",
      "fin\n"
     ]
    }
   ],
   "source": [
    "\n",
    "string_to_test = str(input())\n",
    "\n",
    "## Ver 1 using sets\n",
    "unique_chars = set(string_to_test)\n",
    "print(f'length of input {len(string_to_test)}, length of unqiue chars {len(unique_chars)}')\n",
    "if len(string_to_test) != len(unique_chars):\n",
    "    print(\"String does not have unique characters\")\n",
    "else:\n",
    "    print(\"String has unique characters\")\n",
    "    \n",
    "    \n",
    "## Ver 2 without additional data structures\n",
    "bool_arr = [False] * 128\n",
    "for i in string_to_test:\n",
    "    if bool_arr[ord(i)] == True:\n",
    "        print(\"String does not have unique characters\")\n",
    "        break;\n",
    "    else:\n",
    "        bool_arr[ord(i)] = True"
   ]
  },
  {
   "cell_type": "markdown",
   "id": "45615561",
   "metadata": {},
   "source": [
    "### Example 2"
   ]
  },
  {
   "cell_type": "code",
   "execution_count": 2,
   "id": "b7442ab8",
   "metadata": {},
   "outputs": [
    {
     "name": "stdout",
     "output_type": "stream",
     "text": [
      "lok\n",
      "llko\n",
      "No permutations found\n"
     ]
    },
    {
     "ename": "IpyExit",
     "evalue": "",
     "output_type": "error",
     "traceback": [
      "An exception has occurred, use %tb to see the full traceback.\n",
      "\u001b[0;31mIpyExit\u001b[0m\n"
     ]
    }
   ],
   "source": [
    "string1 = str(input())\n",
    "string2 = str(input())\n",
    "\n",
    "if len(string1) != len(string2):\n",
    "    print(\"No permutations found\")\n",
    "    exit()\n",
    "\n",
    "## Ver 1 using hashmap/dict\n",
    "char_count = {}\n",
    "for i in string1:\n",
    "    if i not in char_count:\n",
    "        char_count[i] = 1\n",
    "        continue\n",
    "    char_count[i] = char_count[i] + 1\n",
    "\n",
    "for i in string2:\n",
    "    if i not in char_count:\n",
    "        print(f'{string1} not a permutation of {string2}')\n",
    "        exit()\n",
    "    if char_count[i] - 1 < 0:\n",
    "        print(f'{string1} not a permutation of {string2}')\n",
    "        exit()\n",
    "    char_count[i] = char_count[i] - 1\n",
    "    \n",
    "print(f'{string2} is a permutation of {string1}')"
   ]
  },
  {
   "cell_type": "code",
   "execution_count": 9,
   "id": "448b1762",
   "metadata": {},
   "outputs": [
    {
     "name": "stdout",
     "output_type": "stream",
     "text": [
      "104\n"
     ]
    }
   ],
   "source": [
    "print(ord(\"h\"))"
   ]
  },
  {
   "cell_type": "code",
   "execution_count": null,
   "id": "ae295e79",
   "metadata": {},
   "outputs": [],
   "source": []
  }
 ],
 "metadata": {
  "kernelspec": {
   "display_name": "Python 3 (ipykernel)",
   "language": "python",
   "name": "python3"
  },
  "language_info": {
   "codemirror_mode": {
    "name": "ipython",
    "version": 3
   },
   "file_extension": ".py",
   "mimetype": "text/x-python",
   "name": "python",
   "nbconvert_exporter": "python",
   "pygments_lexer": "ipython3",
   "version": "3.9.7"
  }
 },
 "nbformat": 4,
 "nbformat_minor": 5
}
