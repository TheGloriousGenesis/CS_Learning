{
 "cells": [
  {
   "cell_type": "code",
   "execution_count": 1,
   "id": "4c135238",
   "metadata": {},
   "outputs": [],
   "source": [
    "\"\"\"\n",
    "# ipython_exit.py\n",
    "Allows exit() to work if script is invoked with IPython without\n",
    "raising NameError Exception. Keeps kernel alive.\n",
    "\n",
    "Use: import variable 'exit' in target script with\n",
    "     'from ipython_exit import exit'    \n",
    "\"\"\"\n",
    "\n",
    "import sys\n",
    "from io import StringIO\n",
    "from IPython import get_ipython\n",
    "\n",
    "\n",
    "class IpyExit(SystemExit):\n",
    "    \"\"\"Exit Exception for IPython.\n",
    "\n",
    "    Exception temporarily redirects stderr to buffer.\n",
    "    \"\"\"\n",
    "    def __init__(self):\n",
    "        # print(\"exiting\")  # optionally print some message to stdout, too\n",
    "        # ... or do other stuff before exit\n",
    "        sys.stderr = StringIO()\n",
    "\n",
    "    def __del__(self):\n",
    "        sys.stderr.close()\n",
    "        sys.stderr = sys.__stderr__  # restore from backup\n",
    "\n",
    "\n",
    "def ipy_exit():\n",
    "    raise IpyExit\n",
    "\n",
    "\n",
    "if get_ipython():    # ...run with IPython\n",
    "    exit = ipy_exit  # rebind to custom exit\n",
    "else:\n",
    "    exit = exit      # just make exit importable"
   ]
  },
  {
   "cell_type": "markdown",
   "id": "7893d6ce",
   "metadata": {},
   "source": [
    "### Example of Forking\n",
    "\n",
    "The return value from the .fork() method tells us whether we are in the child process (== 0), in the parent process (==  $\\mathbb{R}^{+}$) or an error has occured (== $\\mathbb{R}^{-}$)"
   ]
  },
  {
   "cell_type": "code",
   "execution_count": null,
   "id": "5d81b72e",
   "metadata": {},
   "outputs": [],
   "source": [
    "import os\n",
    "\n",
    "def child():\n",
    "    print(\"\\n new child \", os.getpid())\n",
    "    os._exit(0)\n",
    "    \n",
    "def parent():\n",
    "    while True:\n",
    "        newpid = os.fork()\n",
    "        ## return value from fork() tells us if we are in\n",
    "        if newpid == 0:\n",
    "            child()\n",
    "        else:\n",
    "            pids = (os.getpid(), newpid)\n",
    "            print(\"parent: %d , child: %d \\n\" % pids)\n",
    "        reply = input(\"q for quit / c for new fork\")\n",
    "        if reply == \"c\":\n",
    "            continue\n",
    "        else:\n",
    "            break\n",
    "\n",
    "parent()"
   ]
  },
  {
   "cell_type": "markdown",
   "id": "9846debf",
   "metadata": {},
   "source": [
    "## Example of Arrays"
   ]
  },
  {
   "cell_type": "markdown",
   "id": "8066bbc6",
   "metadata": {},
   "source": [
    "### Example 1"
   ]
  },
  {
   "cell_type": "code",
   "execution_count": 13,
   "id": "b4a6f611",
   "metadata": {},
   "outputs": [
    {
     "name": "stdout",
     "output_type": "stream",
     "text": [
      "huump\n",
      "String does not have unique characters\n",
      "fin\n"
     ]
    }
   ],
   "source": [
    "\n",
    "string_to_test = str(input())\n",
    "\n",
    "## Ver 1 using sets\n",
    "unique_chars = set(string_to_test)\n",
    "print(f'length of input {len(string_to_test)}, length of unqiue chars {len(unique_chars)}')\n",
    "if len(string_to_test) != len(unique_chars):\n",
    "    print(\"String does not have unique characters\")\n",
    "else:\n",
    "    print(\"String has unique characters\")\n",
    "    \n",
    "    \n",
    "## Ver 2 without additional data structures\n",
    "bool_arr = [False] * 128\n",
    "for i in string_to_test:\n",
    "    if bool_arr[ord(i)] == True:\n",
    "        print(\"String does not have unique characters\")\n",
    "        break;\n",
    "    else:\n",
    "        bool_arr[ord(i)] = True"
   ]
  },
  {
   "cell_type": "markdown",
   "id": "45615561",
   "metadata": {},
   "source": [
    "### Example 2"
   ]
  },
  {
   "cell_type": "code",
   "execution_count": 2,
   "id": "b7442ab8",
   "metadata": {},
   "outputs": [
    {
     "name": "stdout",
     "output_type": "stream",
     "text": [
      "lok\n",
      "llko\n",
      "No permutations found\n"
     ]
    },
    {
     "ename": "IpyExit",
     "evalue": "",
     "output_type": "error",
     "traceback": [
      "An exception has occurred, use %tb to see the full traceback.\n",
      "\u001B[0;31mIpyExit\u001B[0m\n"
     ]
    }
   ],
   "source": [
    "string1 = str(input())\n",
    "string2 = str(input())\n",
    "\n",
    "if len(string1) != len(string2):\n",
    "    print(\"No permutations found\")\n",
    "    exit()\n",
    "\n",
    "## Ver 1 using hashmap/dict\n",
    "char_count = {}\n",
    "for i in string1:\n",
    "    if i not in char_count:\n",
    "        char_count[i] = 1\n",
    "        continue\n",
    "    char_count[i] = char_count[i] + 1\n",
    "\n",
    "for i in string2:\n",
    "    if i not in char_count:\n",
    "        print(f'{string1} not a permutation of {string2}')\n",
    "        exit()\n",
    "    if char_count[i] - 1 < 0:\n",
    "        print(f'{string1} not a permutation of {string2}')\n",
    "        exit()\n",
    "    char_count[i] = char_count[i] - 1\n",
    "    \n",
    "print(f'{string2} is a permutation of {string1}')"
   ]
  },
  {
   "cell_type": "code",
   "execution_count": 9,
   "id": "448b1762",
   "metadata": {
    "pycharm": {
     "name": "#%%\n"
    }
   },
   "outputs": [
    {
     "name": "stdout",
     "output_type": "stream",
     "text": [
      "104\n"
     ]
    }
   ],
   "source": [
    "print(ord(\"h\"))"
   ]
  },
  {
   "cell_type": "markdown",
   "source": [
    "## Example of API requests"
   ],
   "metadata": {
    "collapsed": false,
    "pycharm": {
     "name": "#%% md\n"
    }
   }
  },
  {
   "cell_type": "code",
   "execution_count": 4,
   "outputs": [],
   "source": [
    "# Import required modules\n",
    "import requests\n",
    "import json\n",
    "from requests.exceptions import HTTPError"
   ],
   "metadata": {
    "collapsed": false,
    "pycharm": {
     "name": "#%%\n"
    }
   }
  },
  {
   "cell_type": "code",
   "execution_count": 5,
   "outputs": [],
   "source": [
    "# Create class to format json retrieved\n",
    "class FormatMeals:\n",
    "    ...\n",
    "\n",
    "# Create class to obtain API information\n",
    "class ApiRequests:\n",
    "    def __init__(self, api: str, formatter: FormatMeals = None):\n",
    "        self._api = api\n",
    "        self._formatter = formatter\n",
    "\n",
    "    def random_meal(self) -> str:\n",
    "        response = requests.get(self._api)\n",
    "        if response.status_code != 200:\n",
    "            raise HTTPError()\n",
    "        return self.jprint(response.json())\n",
    "\n",
    "    def jprint(self, obj):\n",
    "        # create a formatted string of the Python JSON object\n",
    "        text = json.dumps(obj, sort_keys=True, indent=4)\n",
    "        print(text)\n",
    "\n"
   ],
   "metadata": {
    "collapsed": false,
    "pycharm": {
     "name": "#%%\n"
    }
   }
  },
  {
   "cell_type": "code",
   "execution_count": 6,
   "outputs": [
    {
     "name": "stdout",
     "output_type": "stream",
     "text": [
      "{\n",
      "    \"meals\": [\n",
      "        {\n",
      "            \"dateModified\": null,\n",
      "            \"idMeal\": \"52958\",\n",
      "            \"strArea\": \"American\",\n",
      "            \"strCategory\": \"Dessert\",\n",
      "            \"strCreativeCommonsConfirmed\": null,\n",
      "            \"strDrinkAlternate\": null,\n",
      "            \"strImageSource\": null,\n",
      "            \"strIngredient1\": \"Peanut Butter\",\n",
      "            \"strIngredient10\": \"\",\n",
      "            \"strIngredient11\": \"\",\n",
      "            \"strIngredient12\": \"\",\n",
      "            \"strIngredient13\": \"\",\n",
      "            \"strIngredient14\": \"\",\n",
      "            \"strIngredient15\": \"\",\n",
      "            \"strIngredient16\": \"\",\n",
      "            \"strIngredient17\": \"\",\n",
      "            \"strIngredient18\": \"\",\n",
      "            \"strIngredient19\": \"\",\n",
      "            \"strIngredient2\": \"Sugar\",\n",
      "            \"strIngredient20\": \"\",\n",
      "            \"strIngredient3\": \"Egg\",\n",
      "            \"strIngredient4\": \"\",\n",
      "            \"strIngredient5\": \"\",\n",
      "            \"strIngredient6\": \"\",\n",
      "            \"strIngredient7\": \"\",\n",
      "            \"strIngredient8\": \"\",\n",
      "            \"strIngredient9\": \"\",\n",
      "            \"strInstructions\": \"Preheat oven to 350\\u00baF (180\\u00baC).\\r\\nIn a large bowl, mix together the peanut butter, sugar, and egg.\\r\\nScoop out a spoonful of dough and roll it into a ball. Place the cookie balls onto a nonstick baking sheet.\\r\\nFor extra decoration and to make them cook more evenly, flatten the cookie balls by pressing a fork down on top of them, then press it down again at a 90\\u00ba angle to make a criss-cross pattern.\\r\\nBake for 8-10 minutes or until the bottom of the cookies are golden brown.\\r\\nRemove from baking sheet and cool.\\r\\nEnjoy!\",\n",
      "            \"strMeal\": \"Peanut Butter Cookies\",\n",
      "            \"strMealThumb\": \"https://www.themealdb.com/images/media/meals/1544384070.jpg\",\n",
      "            \"strMeasure1\": \"1 cup \",\n",
      "            \"strMeasure10\": \"\",\n",
      "            \"strMeasure11\": \"\",\n",
      "            \"strMeasure12\": \"\",\n",
      "            \"strMeasure13\": \"\",\n",
      "            \"strMeasure14\": \"\",\n",
      "            \"strMeasure15\": \"\",\n",
      "            \"strMeasure16\": \"\",\n",
      "            \"strMeasure17\": \"\",\n",
      "            \"strMeasure18\": \"\",\n",
      "            \"strMeasure19\": \"\",\n",
      "            \"strMeasure2\": \"1/2 cup \",\n",
      "            \"strMeasure20\": \"\",\n",
      "            \"strMeasure3\": \"1\",\n",
      "            \"strMeasure4\": \"\",\n",
      "            \"strMeasure5\": \"\",\n",
      "            \"strMeasure6\": \"\",\n",
      "            \"strMeasure7\": \"\",\n",
      "            \"strMeasure8\": \"\",\n",
      "            \"strMeasure9\": \"\",\n",
      "            \"strSource\": \"https://tasty.co/recipe/3-ingredient-peanut-butter-cookies\",\n",
      "            \"strTags\": \"Breakfast,UnHealthy,BBQ\",\n",
      "            \"strYoutube\": \"\"\n",
      "        }\n",
      "    ]\n",
      "}\n",
      "None\n"
     ]
    }
   ],
   "source": [
    "food_api = \"https://www.themealdb.com/api/json/v1/1/random.php\"\n",
    "api_requests = ApiRequests(api=food_api)\n",
    "meal = api_requests.random_meal()\n",
    "print(meal)"
   ],
   "metadata": {
    "collapsed": false,
    "pycharm": {
     "name": "#%%\n"
    }
   }
  },
  {
   "cell_type": "code",
   "execution_count": null,
   "outputs": [],
   "source": [],
   "metadata": {
    "collapsed": false,
    "pycharm": {
     "name": "#%%\n"
    }
   }
  }
 ],
 "metadata": {
  "kernelspec": {
   "display_name": "Python 3 (ipykernel)",
   "language": "python",
   "name": "python3"
  },
  "language_info": {
   "codemirror_mode": {
    "name": "ipython",
    "version": 3
   },
   "file_extension": ".py",
   "mimetype": "text/x-python",
   "name": "python",
   "nbconvert_exporter": "python",
   "pygments_lexer": "ipython3",
   "version": "3.9.7"
  }
 },
 "nbformat": 4,
 "nbformat_minor": 5
}